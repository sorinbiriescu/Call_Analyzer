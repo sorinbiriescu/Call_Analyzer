{
 "cells": [
  {
   "cell_type": "markdown",
   "id": "191830e1-668b-46d7-aac9-a7485119c5ce",
   "metadata": {},
   "source": [
    "This is based on one of my previous analyses for my clients. My client has an IT support department which receives telephone calls for support request. The team providing support is limited due to budget constraints and needs to do also onsite support as well as the aforementioned remote support.\n",
    "\n",
    "<!-- graph with team division -->\n",
    "\n",
    "My client wants to know how many persons should be available to pickup telephone calls in certain periods (hour interval, days of the week, month) in order to properly assign the technicians to either provide remote support or go onsite. Too many people picking up calls and there's not enought work for everybody and onsite support will encounter delays. Not enough people to pickup telephone calls and the service quality will suffer (and possibly bring also penalties stipulated in the contract).\n",
    "\n",
    "The questions that need answering are:\n",
    "1. What are the overall characteristics of the remote support telephone calls?\n",
    "2. How many technicians are required to pick up calls to fulfill the required service?\n",
    "\n",
    "Due to confidentiality of data, the data related to the calls is not real, however I tried as much as possible to respect the distribution of calls during the day, week and periods of the year. In all other aspects, such as column data format, the imaginary data that I'm using for this analysis example is accurate.\n",
    "\n",
    "In the real situation, the telephone calls data came in XML format exported by an Alcatel-Lucent ACD and imported by another Python script in a SQLite database. The database was used for an in-house build telephone console to visualize call activity in near real-time.\n",
    "\n",
    "    ACD - An automated call distribution system, commonly known as automatic call distributor (ACD), is a telephony device that answers and distributes incoming calls to a specific group of terminals or agents within an organization."
   ]
  },
  {
   "cell_type": "markdown",
   "id": "d4d72fa8-9217-4124-99b9-ee7a55010f70",
   "metadata": {},
   "source": [
    "# Data import and cleaning"
   ]
  },
  {
   "cell_type": "markdown",
   "id": "e496ce9e-976a-4965-b80a-ca821dbfc843",
   "metadata": {},
   "source": [
    "First thing first, the data needs to be imported from the SQLite database and loaded into a Pandas dataframe for analysis."
   ]
  },
  {
   "cell_type": "code",
   "execution_count": 106,
   "id": "d386e7e1-978e-427c-9e87-03d27290f6e9",
   "metadata": {},
   "outputs": [],
   "source": [
    "import sqlite3\n",
    "from sqlite3 import Error\n",
    "import pandas as pd\n",
    "import numpy as np"
   ]
  },
  {
   "cell_type": "code",
   "execution_count": 107,
   "id": "f6663769-b3c4-4ae0-bfa9-a3d2609e7c7c",
   "metadata": {},
   "outputs": [],
   "source": [
    "markdown_export = False"
   ]
  },
  {
   "cell_type": "code",
   "execution_count": 108,
   "id": "53fe1c29-0462-465b-9e71-5b27987571f8",
   "metadata": {},
   "outputs": [],
   "source": [
    "def genprint(obj):\n",
    "    if markdown_export:\n",
    "        print(obj.to_markdown(tablefmt = \"github\"))\n",
    "    else:\n",
    "        display(obj)"
   ]
  },
  {
   "cell_type": "code",
   "execution_count": 109,
   "id": "808323fc-8fbb-498d-b86b-ab39c6f03940",
   "metadata": {},
   "outputs": [],
   "source": [
    "def create_connection(path):\n",
    "    connection = None\n",
    "    try:\n",
    "        connection = sqlite3.connect(path)\n",
    "        print(\"Connection to SQLite DB successful\")\n",
    "\n",
    "    except Error as e:\n",
    "        print(f\"The error '{e}' occurred\")\n",
    "        \n",
    "    return connection"
   ]
  },
  {
   "cell_type": "code",
   "execution_count": 110,
   "id": "a12051b7-155c-4f31-90ec-5cfabd7ce244",
   "metadata": {},
   "outputs": [],
   "source": [
    "def execute_read_query(connection, query):\n",
    "    cursor = connection.cursor()\n",
    "    result = None\n",
    "    try:\n",
    "        cursor.execute(query)\n",
    "        result = cursor.fetchall()\n",
    "        return result\n",
    "    except Error as e:\n",
    "        print(f\"The error '{e}' occurred\")"
   ]
  },
  {
   "cell_type": "code",
   "execution_count": 111,
   "id": "45da430b-ff08-4f0f-a134-940ded25ee2f",
   "metadata": {},
   "outputs": [
    {
     "name": "stdout",
     "output_type": "stream",
     "text": [
      "Connection to SQLite DB successful\n"
     ]
    }
   ],
   "source": [
    "connection = create_connection(\"./call_journal.db\")"
   ]
  },
  {
   "cell_type": "markdown",
   "id": "b2fb9d60-ce4d-45ca-ba2b-ac02b0b76cae",
   "metadata": {},
   "source": [
    "Data filtering sometimes starts with the SQL query. In my case, I'm only selecting data that I judged to be relevant to my analysis. However, it's good to keep in mind that left out columns may contain relevant or crucial information. It's best that in some cases the initial DB is reinvestigated to dig out more useful information."
   ]
  },
  {
   "cell_type": "code",
   "execution_count": 112,
   "id": "eaf7dbd5-1a83-4aa4-b766-84a5eb7f205f",
   "metadata": {},
   "outputs": [],
   "source": [
    "select_call_records = '''\n",
    "    SELECT TicketType,\n",
    "        ChargedUserID,\n",
    "        SubscriberName,\n",
    "        CommunicationType,\n",
    "        Date,\n",
    "        Time,\n",
    "        DateTime,\n",
    "        CallDuration,\n",
    "        CallDurationMV,\n",
    "        RingingDuration\n",
    "\n",
    "    FROM call_journal'''\n",
    "\n",
    "db_cols = [\"TicketType\",\n",
    "        \"ChargedUserID\",\n",
    "        \"SubscriberName\",\n",
    "        \"CommunicationType\",\n",
    "        \"Date\",\n",
    "        \"Time\",\n",
    "        \"DateTime\",\n",
    "        \"CallDuration\",\n",
    "        \"CallDurationMV\",\n",
    "        \"RingingDuration\"]\n",
    "\n",
    "call_records = execute_read_query(connection, select_call_records)\n",
    "\n",
    "df = pd.DataFrame(call_records, columns = db_cols)"
   ]
  },
  {
   "cell_type": "code",
   "execution_count": 113,
   "id": "6c883795-7de0-4cfe-87d7-f867284b5c86",
   "metadata": {},
   "outputs": [
    {
     "data": {
      "text/html": [
       "<div>\n",
       "<style scoped>\n",
       "    .dataframe tbody tr th:only-of-type {\n",
       "        vertical-align: middle;\n",
       "    }\n",
       "\n",
       "    .dataframe tbody tr th {\n",
       "        vertical-align: top;\n",
       "    }\n",
       "\n",
       "    .dataframe thead th {\n",
       "        text-align: right;\n",
       "    }\n",
       "</style>\n",
       "<table border=\"1\" class=\"dataframe\">\n",
       "  <thead>\n",
       "    <tr style=\"text-align: right;\">\n",
       "      <th></th>\n",
       "      <th>TicketType</th>\n",
       "      <th>ChargedUserID</th>\n",
       "      <th>SubscriberName</th>\n",
       "      <th>CommunicationType</th>\n",
       "      <th>Date</th>\n",
       "      <th>Time</th>\n",
       "      <th>DateTime</th>\n",
       "      <th>CallDuration</th>\n",
       "      <th>CallDurationMV</th>\n",
       "      <th>RingingDuration</th>\n",
       "    </tr>\n",
       "  </thead>\n",
       "  <tbody>\n",
       "    <tr>\n",
       "      <th>16226</th>\n",
       "      <td>Call</td>\n",
       "      <td>06</td>\n",
       "      <td>POSTE 2</td>\n",
       "      <td>IncomingTransfer</td>\n",
       "      <td>2019-04-23</td>\n",
       "      <td>09:00:00</td>\n",
       "      <td>2019-04-23 09:00:00</td>\n",
       "      <td>0:01:28</td>\n",
       "      <td>0:00:00</td>\n",
       "      <td>0:00:04</td>\n",
       "    </tr>\n",
       "    <tr>\n",
       "      <th>60155</th>\n",
       "      <td>Call</td>\n",
       "      <td>14</td>\n",
       "      <td>POSTE 5</td>\n",
       "      <td>IncomingTransfer</td>\n",
       "      <td>2020-09-11</td>\n",
       "      <td>11:12:00</td>\n",
       "      <td>2020-09-11 11:12:00</td>\n",
       "      <td>00:01:38</td>\n",
       "      <td>0:00:00</td>\n",
       "      <td>00:00:00</td>\n",
       "    </tr>\n",
       "    <tr>\n",
       "      <th>2593</th>\n",
       "      <td>Call</td>\n",
       "      <td>23</td>\n",
       "      <td>ACD</td>\n",
       "      <td>Incoming</td>\n",
       "      <td>2019-11-06</td>\n",
       "      <td>11:14:00</td>\n",
       "      <td>2019-11-06 11:14:00</td>\n",
       "      <td>0:00:00</td>\n",
       "      <td>00:00:09</td>\n",
       "      <td>00:00:01</td>\n",
       "    </tr>\n",
       "    <tr>\n",
       "      <th>14671</th>\n",
       "      <td>Call</td>\n",
       "      <td>01</td>\n",
       "      <td>POSTE 5</td>\n",
       "      <td>IncomingTransfer</td>\n",
       "      <td>2019-03-18</td>\n",
       "      <td>13:16:00</td>\n",
       "      <td>2019-03-18 13:16:00</td>\n",
       "      <td>0:08:42</td>\n",
       "      <td>0:00:00</td>\n",
       "      <td>0:00:08</td>\n",
       "    </tr>\n",
       "    <tr>\n",
       "      <th>40951</th>\n",
       "      <td>Call</td>\n",
       "      <td>11</td>\n",
       "      <td>POSTE 2</td>\n",
       "      <td>Outgoing</td>\n",
       "      <td>2020-03-16</td>\n",
       "      <td>09:31:00</td>\n",
       "      <td>2020-03-16 09:31:00</td>\n",
       "      <td>00:14:24</td>\n",
       "      <td>0:00:00</td>\n",
       "      <td>00:00:00</td>\n",
       "    </tr>\n",
       "  </tbody>\n",
       "</table>\n",
       "</div>"
      ],
      "text/plain": [
       "      TicketType ChargedUserID SubscriberName CommunicationType        Date  \\\n",
       "16226       Call            06        POSTE 2  IncomingTransfer  2019-04-23   \n",
       "60155       Call            14        POSTE 5  IncomingTransfer  2020-09-11   \n",
       "2593        Call            23            ACD          Incoming  2019-11-06   \n",
       "14671       Call            01        POSTE 5  IncomingTransfer  2019-03-18   \n",
       "40951       Call            11        POSTE 2          Outgoing  2020-03-16   \n",
       "\n",
       "           Time             DateTime CallDuration CallDurationMV  \\\n",
       "16226  09:00:00  2019-04-23 09:00:00      0:01:28        0:00:00   \n",
       "60155  11:12:00  2020-09-11 11:12:00     00:01:38        0:00:00   \n",
       "2593   11:14:00  2019-11-06 11:14:00      0:00:00       00:00:09   \n",
       "14671  13:16:00  2019-03-18 13:16:00      0:08:42        0:00:00   \n",
       "40951  09:31:00  2020-03-16 09:31:00     00:14:24        0:00:00   \n",
       "\n",
       "      RingingDuration  \n",
       "16226         0:00:04  \n",
       "60155        00:00:00  \n",
       "2593         00:00:01  \n",
       "14671         0:00:08  \n",
       "40951        00:00:00  "
      ]
     },
     "metadata": {},
     "output_type": "display_data"
    }
   ],
   "source": [
    "genprint(df.sample(5))"
   ]
  },
  {
   "cell_type": "code",
   "execution_count": 114,
   "id": "4fc716cd-c8e0-42b2-87ae-261439715b45",
   "metadata": {},
   "outputs": [
    {
     "name": "stdout",
     "output_type": "stream",
     "text": [
      "<class 'pandas.core.frame.DataFrame'>\n",
      "RangeIndex: 63670 entries, 0 to 63669\n",
      "Data columns (total 10 columns):\n",
      " #   Column             Non-Null Count  Dtype \n",
      "---  ------             --------------  ----- \n",
      " 0   TicketType         63670 non-null  object\n",
      " 1   ChargedUserID      63670 non-null  object\n",
      " 2   SubscriberName     63588 non-null  object\n",
      " 3   CommunicationType  63670 non-null  object\n",
      " 4   Date               63670 non-null  object\n",
      " 5   Time               63670 non-null  object\n",
      " 6   DateTime           63670 non-null  object\n",
      " 7   CallDuration       63670 non-null  object\n",
      " 8   CallDurationMV     63670 non-null  object\n",
      " 9   RingingDuration    63670 non-null  object\n",
      "dtypes: object(10)\n",
      "memory usage: 4.9+ MB\n"
     ]
    },
    {
     "data": {
      "text/plain": [
       "None"
      ]
     },
     "metadata": {},
     "output_type": "display_data"
    }
   ],
   "source": [
    "genprint(df.info())"
   ]
  },
  {
   "cell_type": "markdown",
   "id": "e3ee9993-af6a-4dae-9893-2539024800f1",
   "metadata": {},
   "source": [
    "The important thing after data import is to try to understand what data is presented in the columns. Not being aware of what's the purpose of the data or how it was generated could give innacurate results. I'll come with examples below.\n",
    "\n",
    "The documentation of the source of information (in my case the ACD) was the first step in understanding how it generates the data. After going through (way too many) documentation pages, I found the following:\n",
    "1. calls are registered as tickets in the ACD (tickets are single units of information of certain operations, like calls, agent activity etc.)\n",
    "2. calls are received first by SubscriberName ACD, then transfered to SubscriberName agents (POSTE 1, POSTE 2, MV etc.) for call pickup or sent to voicemail. This is a very important piece of information as the ACD registers once the call when it reaches the system and another ticket when it's transfered and answered by the agent. Basically, the total number of calls is actually HALF. Example below\n",
    "\n",
    "    | SubscriberName | CommunicationType | DateTime            | DialledNumber |\n",
    "    | -------------- | ----------------- | ------------------- | ------------- |\n",
    "    | ACD            | Incoming          | 2019-11-28 10:38:00 | 0750.123.456  |\n",
    "    | POSTE 1        | IncomingTransfer  | 2019-11-28 10:38:00 | 0750.123.456  |\n",
    "\n",
    "First, the call reaches ACD, then the same call gets transfered to agent (POSTE 1).\n",
    "\n",
    "    Call -- received --> ACD -- transfered --> POSTE 1\n",
    "\n",
    "Since we are only interested in analyzing unique calls and not how they are routed, we need to drop all rows with SubscriberName == ACD to get the real numbers.\n",
    "\n",
    "3. The missed calls are not marked specifically. The call routing logic is that it's either answered by someone or it's redirected to voicemail.\n",
    "\n",
    "    | SubscriberName | CommunicationType | DateTime            | DialledNumber |\n",
    "    | -------------- | ----------------- | ------------------- | ------------- |\n",
    "    | ACD            | Incoming          | 2019-11-28 16:27:00 | 0750.123.456  |\n",
    "    | MV 1           | IncomingTransfer  | 2019-11-28 16:28:00 | 0750.123.456  |\n",
    "\n",
    "The call reaches the ACD, no one can pickup the call, and the call is redirected to voicemail MV1.\n",
    "\n",
    "    Call -- received --> ACD -- transfered --> POSTE 1\n",
    "\n",
    "Again, same history as before, for the same call, 2 tickets are made. We'll drop the lines with SubscriberName = ACD"
   ]
  },
  {
   "cell_type": "code",
   "execution_count": 115,
   "id": "52f0e131-dfd7-43d2-8a4e-7a8a0891764b",
   "metadata": {},
   "outputs": [],
   "source": [
    "df = df.loc[df[\"SubscriberName\"] != \"ACD\"]"
   ]
  },
  {
   "cell_type": "markdown",
   "id": "2e8fbb41-3cb1-41bd-8b2f-5de5b736420a",
   "metadata": {},
   "source": [
    "Now, we'll continue looking into the other columns."
   ]
  },
  {
   "cell_type": "code",
   "execution_count": 116,
   "id": "5fc6bc2e-0a3c-4c45-b84d-0a46f346f22e",
   "metadata": {},
   "outputs": [
    {
     "data": {
      "text/plain": [
       "array(['Call'], dtype=object)"
      ]
     },
     "execution_count": 116,
     "metadata": {},
     "output_type": "execute_result"
    }
   ],
   "source": [
    "df[\"TicketType\"].unique()"
   ]
  },
  {
   "cell_type": "markdown",
   "id": "60e0c05f-ae15-421c-850d-c8677356b868",
   "metadata": {},
   "source": [
    "Since \"TicketType\" doesn't hold other values than \"Call\", it has no value to us, so we'll drop it."
   ]
  },
  {
   "cell_type": "code",
   "execution_count": 117,
   "id": "6a328c68-7ce5-4d8a-9409-c0ac4e1b4d33",
   "metadata": {},
   "outputs": [],
   "source": [
    "df.drop(labels = [\"TicketType\"], axis = 1, inplace = True)"
   ]
  },
  {
   "cell_type": "code",
   "execution_count": 118,
   "id": "591b2cd5-0c4f-4e76-9b7e-1708f6393b42",
   "metadata": {},
   "outputs": [
    {
     "data": {
      "text/plain": [
       "array(['13', '14', '10', '33', '32', '44', '11', '15', '12', '59', '30',\n",
       "       '42', '01', '04', '03', '05', '02', '06', '07', '08', '43'],\n",
       "      dtype=object)"
      ]
     },
     "execution_count": 118,
     "metadata": {},
     "output_type": "execute_result"
    }
   ],
   "source": [
    "df[\"ChargedUserID\"].unique()"
   ]
  },
  {
   "cell_type": "code",
   "execution_count": 119,
   "id": "a68bec29-b0a3-4a8a-aa49-886a87253686",
   "metadata": {},
   "outputs": [
    {
     "data": {
      "text/plain": [
       "array(['POSTE 4', 'POSTE 5', 'POSTE 1', 'MV 2', 'MV 1', 'POSTE 8',\n",
       "       'POSTE 2', 'POSTE 6', 'POSTE 3', 'POSTE 7'], dtype=object)"
      ]
     },
     "execution_count": 119,
     "metadata": {},
     "output_type": "execute_result"
    }
   ],
   "source": [
    "df = df.loc[df[\"SubscriberName\"] != 'ACD group mbx 1']\n",
    "df = df.loc[df[\"SubscriberName\"].notnull()]\n",
    "df[\"SubscriberName\"].unique()"
   ]
  },
  {
   "cell_type": "code",
   "execution_count": 120,
   "id": "89402a8e-19c4-4c9e-91d2-bdede7ab01da",
   "metadata": {},
   "outputs": [
    {
     "data": {
      "text/plain": [
       "array(['IncomingTransfer', 'Outgoing', 'OutgoingTransfer',\n",
       "       'OutgoingTransferTransit', 'IncomingTransferTransit'], dtype=object)"
      ]
     },
     "execution_count": 120,
     "metadata": {},
     "output_type": "execute_result"
    }
   ],
   "source": [
    "df[\"CommunicationType\"].unique()"
   ]
  },
  {
   "cell_type": "markdown",
   "id": "711a9fb5-602a-490a-951e-3804c43e170c",
   "metadata": {},
   "source": [
    "This will be filtered as well, as we're only interested in incoming calls. One curious this is the \"IncomingTransferTransit\" value. We'll check it out:"
   ]
  },
  {
   "cell_type": "code",
   "execution_count": 121,
   "id": "baa3f6b0-f0b6-4b80-aee1-cf694d3f5c0e",
   "metadata": {},
   "outputs": [
    {
     "data": {
      "text/html": [
       "<div>\n",
       "<style scoped>\n",
       "    .dataframe tbody tr th:only-of-type {\n",
       "        vertical-align: middle;\n",
       "    }\n",
       "\n",
       "    .dataframe tbody tr th {\n",
       "        vertical-align: top;\n",
       "    }\n",
       "\n",
       "    .dataframe thead th {\n",
       "        text-align: right;\n",
       "    }\n",
       "</style>\n",
       "<table border=\"1\" class=\"dataframe\">\n",
       "  <thead>\n",
       "    <tr style=\"text-align: right;\">\n",
       "      <th></th>\n",
       "      <th>ChargedUserID</th>\n",
       "      <th>SubscriberName</th>\n",
       "      <th>CommunicationType</th>\n",
       "      <th>Date</th>\n",
       "      <th>Time</th>\n",
       "      <th>DateTime</th>\n",
       "      <th>CallDuration</th>\n",
       "      <th>CallDurationMV</th>\n",
       "      <th>RingingDuration</th>\n",
       "    </tr>\n",
       "  </thead>\n",
       "  <tbody>\n",
       "    <tr>\n",
       "      <th>2329</th>\n",
       "      <td>14</td>\n",
       "      <td>POSTE 5</td>\n",
       "      <td>IncomingTransferTransit</td>\n",
       "      <td>2019-11-05</td>\n",
       "      <td>13:12:00</td>\n",
       "      <td>2019-11-05 13:12:00</td>\n",
       "      <td>00:00:09</td>\n",
       "      <td>0:00:00</td>\n",
       "      <td>00:00:00</td>\n",
       "    </tr>\n",
       "  </tbody>\n",
       "</table>\n",
       "</div>"
      ],
      "text/plain": [
       "     ChargedUserID SubscriberName        CommunicationType        Date  \\\n",
       "2329            14        POSTE 5  IncomingTransferTransit  2019-11-05   \n",
       "\n",
       "          Time             DateTime CallDuration CallDurationMV  \\\n",
       "2329  13:12:00  2019-11-05 13:12:00     00:00:09        0:00:00   \n",
       "\n",
       "     RingingDuration  \n",
       "2329        00:00:00  "
      ]
     },
     "metadata": {},
     "output_type": "display_data"
    }
   ],
   "source": [
    "genprint(df.loc[df[\"CommunicationType\"] == 'IncomingTransferTransit'])"
   ]
  },
  {
   "cell_type": "markdown",
   "id": "5bd4d4ae-c0c6-40ab-9ceb-f80312d0292e",
   "metadata": {},
   "source": [
    "Unfortunately, I could not find something relevand in the documentation and, since it's only one value, we'll drop it. "
   ]
  },
  {
   "cell_type": "code",
   "execution_count": 122,
   "id": "fe6a39b4-0838-46d3-b7ee-81e87857d132",
   "metadata": {},
   "outputs": [],
   "source": [
    "df = df.loc[df[\"CommunicationType\"] != 'IncomingTransferTransit']"
   ]
  },
  {
   "cell_type": "markdown",
   "id": "4865b8df-3de7-4a4e-b859-10ed8e098174",
   "metadata": {},
   "source": [
    "One last thing to check is for calls on Saturday and Sunday. During an initial run of this report, the data contained calls received on saturday and sunday."
   ]
  },
  {
   "cell_type": "code",
   "execution_count": 123,
   "id": "f38e8554-3c71-440a-907d-781e8ab864b5",
   "metadata": {},
   "outputs": [],
   "source": [
    "df[\"Date\"] = pd.to_datetime(df[\"Date\"], format = \"%Y-%m-%d\")\n",
    "df[\"Day_nb\"] = df[\"Date\"].dt.dayofweek\n",
    "df = df.loc[~df[\"Day_nb\"].isin([5,6])]\n",
    "df.drop(labels = \"Day_nb\", axis = 1, inplace = True)"
   ]
  },
  {
   "cell_type": "markdown",
   "id": "a22727e8-90e1-4911-b1c9-c809f4def17d",
   "metadata": {},
   "source": [
    "As a last check, we'll look at the total values in columns, to check whether we need to dig deeper into the data."
   ]
  },
  {
   "cell_type": "code",
   "execution_count": 124,
   "id": "66661437-6943-48a6-803c-1131b7a5e7b1",
   "metadata": {},
   "outputs": [
    {
     "name": "stdout",
     "output_type": "stream",
     "text": [
      "<class 'pandas.core.frame.DataFrame'>\n",
      "Int64Index: 44890 entries, 0 to 63668\n",
      "Data columns (total 9 columns):\n",
      " #   Column             Non-Null Count  Dtype         \n",
      "---  ------             --------------  -----         \n",
      " 0   ChargedUserID      44890 non-null  object        \n",
      " 1   SubscriberName     44890 non-null  object        \n",
      " 2   CommunicationType  44890 non-null  object        \n",
      " 3   Date               44890 non-null  datetime64[ns]\n",
      " 4   Time               44890 non-null  object        \n",
      " 5   DateTime           44890 non-null  object        \n",
      " 6   CallDuration       44890 non-null  object        \n",
      " 7   CallDurationMV     44890 non-null  object        \n",
      " 8   RingingDuration    44890 non-null  object        \n",
      "dtypes: datetime64[ns](1), object(8)\n",
      "memory usage: 3.4+ MB\n",
      "None\n"
     ]
    }
   ],
   "source": [
    "print(df.info())"
   ]
  },
  {
   "cell_type": "markdown",
   "id": "072b764a-184c-43c0-a09c-2eb5dc4f2217",
   "metadata": {},
   "source": [
    "All looks OK so far, we'll proceed to setting the columns data types"
   ]
  },
  {
   "cell_type": "markdown",
   "id": "8fa4d323-09d2-4783-97c3-a6e28fe327c8",
   "metadata": {},
   "source": [
    "## Column data format\n",
    "Next, we'll set the proper type of certain columns"
   ]
  },
  {
   "cell_type": "code",
   "execution_count": 125,
   "id": "6fb15035-33d9-47da-a625-21c231f604b6",
   "metadata": {},
   "outputs": [],
   "source": [
    "df[\"ChargedUserID\"] = df[\"ChargedUserID\"].astype(\"category\")\n",
    "df[\"SubscriberName\"] = df[\"SubscriberName\"].astype(\"category\")\n",
    "df[\"CommunicationType\"] = df[\"CommunicationType\"].astype(\"category\")\n",
    "\n",
    "df[\"Time\"] = pd.to_datetime(df[\"Date\"], format = \"%H:%M:%S\")\n",
    "df[\"DateTime\"] = pd.to_datetime(df[\"DateTime\"], format = \"%Y-%m-%d %H:%M:%S\")\n",
    "\n",
    "df[\"CallDuration\"] = pd.to_timedelta(df[\"CallDuration\"])\n",
    "df[\"CallDurationMV\"] = pd.to_timedelta(df[\"CallDurationMV\"])\n",
    "df[\"RingingDuration\"] = pd.to_timedelta(df[\"RingingDuration\"])"
   ]
  },
  {
   "cell_type": "code",
   "execution_count": 126,
   "id": "3276a759-d859-4364-b139-554e39e9c529",
   "metadata": {},
   "outputs": [
    {
     "name": "stdout",
     "output_type": "stream",
     "text": [
      "<class 'pandas.core.frame.DataFrame'>\n",
      "Int64Index: 44890 entries, 0 to 63668\n",
      "Data columns (total 9 columns):\n",
      " #   Column             Non-Null Count  Dtype          \n",
      "---  ------             --------------  -----          \n",
      " 0   ChargedUserID      44890 non-null  category       \n",
      " 1   SubscriberName     44890 non-null  category       \n",
      " 2   CommunicationType  44890 non-null  category       \n",
      " 3   Date               44890 non-null  datetime64[ns] \n",
      " 4   Time               44890 non-null  datetime64[ns] \n",
      " 5   DateTime           44890 non-null  datetime64[ns] \n",
      " 6   CallDuration       44890 non-null  timedelta64[ns]\n",
      " 7   CallDurationMV     44890 non-null  timedelta64[ns]\n",
      " 8   RingingDuration    44890 non-null  timedelta64[ns]\n",
      "dtypes: category(3), datetime64[ns](3), timedelta64[ns](3)\n",
      "memory usage: 2.5 MB\n",
      "None\n"
     ]
    }
   ],
   "source": [
    "print(df.info())"
   ]
  },
  {
   "cell_type": "markdown",
   "id": "c4f9db10-323f-420d-9e69-8af92ec921e0",
   "metadata": {},
   "source": [
    "# Data Analysis\n",
    "We'll start with some basic data exploration, to see some trends. Since we're only interested in incoming calls, we'll create a mask and filter the data"
   ]
  },
  {
   "cell_type": "code",
   "execution_count": 127,
   "id": "e49c6687-bc5f-4f41-a4d0-e1407f2aa4d2",
   "metadata": {},
   "outputs": [],
   "source": [
    "import altair as alt\n",
    "from altair_saver import save"
   ]
  },
  {
   "cell_type": "code",
   "execution_count": 128,
   "id": "b1f7c046-4e5b-4799-a52c-fa8db11decbf",
   "metadata": {},
   "outputs": [],
   "source": [
    "mask_incoming = (df[\"CommunicationType\"] == \"IncomingTransfer\")\n",
    "df = df.loc[mask_incoming]"
   ]
  },
  {
   "cell_type": "code",
   "execution_count": 129,
   "id": "535ff16a-4f5b-431f-a78e-263773b5ced5",
   "metadata": {},
   "outputs": [
    {
     "data": {
      "text/html": [
       "<div>\n",
       "<style scoped>\n",
       "    .dataframe tbody tr th:only-of-type {\n",
       "        vertical-align: middle;\n",
       "    }\n",
       "\n",
       "    .dataframe tbody tr th {\n",
       "        vertical-align: top;\n",
       "    }\n",
       "\n",
       "    .dataframe thead th {\n",
       "        text-align: right;\n",
       "    }\n",
       "</style>\n",
       "<table border=\"1\" class=\"dataframe\">\n",
       "  <thead>\n",
       "    <tr style=\"text-align: right;\">\n",
       "      <th></th>\n",
       "      <th>ChargedUserID</th>\n",
       "      <th>SubscriberName</th>\n",
       "      <th>CommunicationType</th>\n",
       "      <th>Date</th>\n",
       "      <th>Time</th>\n",
       "      <th>DateTime</th>\n",
       "      <th>CallDuration</th>\n",
       "      <th>CallDurationMV</th>\n",
       "      <th>RingingDuration</th>\n",
       "      <th>Answered</th>\n",
       "    </tr>\n",
       "  </thead>\n",
       "  <tbody>\n",
       "    <tr>\n",
       "      <th>62308</th>\n",
       "      <td>12</td>\n",
       "      <td>POSTE 3</td>\n",
       "      <td>IncomingTransfer</td>\n",
       "      <td>2020-09-24</td>\n",
       "      <td>2020-09-24</td>\n",
       "      <td>2020-09-24 08:24:00</td>\n",
       "      <td>0 days 00:01:16</td>\n",
       "      <td>0 days 00:00:00</td>\n",
       "      <td>0 days 00:00:00</td>\n",
       "      <td>1</td>\n",
       "    </tr>\n",
       "    <tr>\n",
       "      <th>39174</th>\n",
       "      <td>14</td>\n",
       "      <td>POSTE 5</td>\n",
       "      <td>IncomingTransfer</td>\n",
       "      <td>2020-03-06</td>\n",
       "      <td>2020-03-06</td>\n",
       "      <td>2020-03-06 08:40:00</td>\n",
       "      <td>0 days 00:01:34</td>\n",
       "      <td>0 days 00:00:00</td>\n",
       "      <td>0 days 00:00:00</td>\n",
       "      <td>1</td>\n",
       "    </tr>\n",
       "    <tr>\n",
       "      <th>18678</th>\n",
       "      <td>04</td>\n",
       "      <td>POSTE 2</td>\n",
       "      <td>IncomingTransfer</td>\n",
       "      <td>2019-06-11</td>\n",
       "      <td>2019-06-11</td>\n",
       "      <td>2019-06-11 10:26:00</td>\n",
       "      <td>0 days 00:00:42</td>\n",
       "      <td>0 days 00:00:00</td>\n",
       "      <td>0 days 00:00:04</td>\n",
       "      <td>1</td>\n",
       "    </tr>\n",
       "    <tr>\n",
       "      <th>15822</th>\n",
       "      <td>01</td>\n",
       "      <td>POSTE 5</td>\n",
       "      <td>IncomingTransfer</td>\n",
       "      <td>2019-04-11</td>\n",
       "      <td>2019-04-11</td>\n",
       "      <td>2019-04-11 14:26:00</td>\n",
       "      <td>0 days 00:02:44</td>\n",
       "      <td>0 days 00:00:00</td>\n",
       "      <td>0 days 00:00:06</td>\n",
       "      <td>1</td>\n",
       "    </tr>\n",
       "    <tr>\n",
       "      <th>29187</th>\n",
       "      <td>32</td>\n",
       "      <td>MV 1</td>\n",
       "      <td>IncomingTransfer</td>\n",
       "      <td>2020-01-24</td>\n",
       "      <td>2020-01-24</td>\n",
       "      <td>2020-01-24 14:19:00</td>\n",
       "      <td>0 days 00:00:00</td>\n",
       "      <td>0 days 00:00:08</td>\n",
       "      <td>0 days 00:00:00</td>\n",
       "      <td>0</td>\n",
       "    </tr>\n",
       "  </tbody>\n",
       "</table>\n",
       "</div>"
      ],
      "text/plain": [
       "      ChargedUserID SubscriberName CommunicationType       Date       Time  \\\n",
       "62308            12        POSTE 3  IncomingTransfer 2020-09-24 2020-09-24   \n",
       "39174            14        POSTE 5  IncomingTransfer 2020-03-06 2020-03-06   \n",
       "18678            04        POSTE 2  IncomingTransfer 2019-06-11 2019-06-11   \n",
       "15822            01        POSTE 5  IncomingTransfer 2019-04-11 2019-04-11   \n",
       "29187            32           MV 1  IncomingTransfer 2020-01-24 2020-01-24   \n",
       "\n",
       "                 DateTime    CallDuration  CallDurationMV RingingDuration  \\\n",
       "62308 2020-09-24 08:24:00 0 days 00:01:16 0 days 00:00:00 0 days 00:00:00   \n",
       "39174 2020-03-06 08:40:00 0 days 00:01:34 0 days 00:00:00 0 days 00:00:00   \n",
       "18678 2019-06-11 10:26:00 0 days 00:00:42 0 days 00:00:00 0 days 00:00:04   \n",
       "15822 2019-04-11 14:26:00 0 days 00:02:44 0 days 00:00:00 0 days 00:00:06   \n",
       "29187 2020-01-24 14:19:00 0 days 00:00:00 0 days 00:00:08 0 days 00:00:00   \n",
       "\n",
       "       Answered  \n",
       "62308         1  \n",
       "39174         1  \n",
       "18678         1  \n",
       "15822         1  \n",
       "29187         0  "
      ]
     },
     "metadata": {},
     "output_type": "display_data"
    }
   ],
   "source": [
    "df[\"Answered\"] = 0\n",
    "df.loc[df[\"SubscriberName\"].str.startswith('POSTE'), \"Answered\"] = 1\n",
    "genprint(df.sample(5))"
   ]
  },
  {
   "cell_type": "markdown",
   "id": "644fa751-6c6e-43dc-913c-e4179ed58b4e",
   "metadata": {},
   "source": [
    "## Total calls per day"
   ]
  },
  {
   "cell_type": "code",
   "execution_count": 130,
   "id": "0c0cf9f4-085f-4f7c-80a2-c3803301e195",
   "metadata": {},
   "outputs": [
    {
     "data": {
      "text/html": [
       "<div>\n",
       "<style scoped>\n",
       "    .dataframe tbody tr th:only-of-type {\n",
       "        vertical-align: middle;\n",
       "    }\n",
       "\n",
       "    .dataframe tbody tr th {\n",
       "        vertical-align: top;\n",
       "    }\n",
       "\n",
       "    .dataframe thead th {\n",
       "        text-align: right;\n",
       "    }\n",
       "</style>\n",
       "<table border=\"1\" class=\"dataframe\">\n",
       "  <thead>\n",
       "    <tr style=\"text-align: right;\">\n",
       "      <th></th>\n",
       "      <th>Date</th>\n",
       "      <th>Total</th>\n",
       "    </tr>\n",
       "  </thead>\n",
       "  <tbody>\n",
       "    <tr>\n",
       "      <th>57</th>\n",
       "      <td>2019-01-07</td>\n",
       "      <td>91</td>\n",
       "    </tr>\n",
       "    <tr>\n",
       "      <th>136</th>\n",
       "      <td>2019-04-29</td>\n",
       "      <td>53</td>\n",
       "    </tr>\n",
       "    <tr>\n",
       "      <th>147</th>\n",
       "      <td>2019-05-16</td>\n",
       "      <td>91</td>\n",
       "    </tr>\n",
       "    <tr>\n",
       "      <th>41</th>\n",
       "      <td>2018-12-11</td>\n",
       "      <td>76</td>\n",
       "    </tr>\n",
       "    <tr>\n",
       "      <th>182</th>\n",
       "      <td>2019-07-09</td>\n",
       "      <td>83</td>\n",
       "    </tr>\n",
       "  </tbody>\n",
       "</table>\n",
       "</div>"
      ],
      "text/plain": [
       "          Date  Total\n",
       "57  2019-01-07     91\n",
       "136 2019-04-29     53\n",
       "147 2019-05-16     91\n",
       "41  2018-12-11     76\n",
       "182 2019-07-09     83"
      ]
     },
     "metadata": {},
     "output_type": "display_data"
    }
   ],
   "source": [
    "total_per_day = df.groupby(\"Date\")[\"CommunicationType\"].count().reset_index().rename({\"CommunicationType\": \"Total\"}, axis = 1)\n",
    "genprint(total_per_day.sample(5))"
   ]
  },
  {
   "cell_type": "code",
   "execution_count": 131,
   "id": "50b0152f-6ad5-436a-8785-2cf743c793dc",
   "metadata": {},
   "outputs": [],
   "source": [
    "volume_chart = alt.Chart(total_per_day).mark_trail().encode(\n",
    "    x = \"Date:T\",\n",
    "    y = 'Total',\n",
    "    size = 'Total:Q'\n",
    ").properties(\n",
    "    width = 600\n",
    ")"
   ]
  },
  {
   "cell_type": "code",
   "execution_count": 132,
   "id": "9787914b-9f06-4eb7-9f7c-9d92e54840fa",
   "metadata": {},
   "outputs": [
    {
     "data": {
      "text/html": [
       "\n",
       "<div id=\"altair-viz-ea7a8e5ea8a642a591d62b09437a6f91\"></div>\n",
       "<script type=\"text/javascript\">\n",
       "  (function(spec, embedOpt){\n",
       "    let outputDiv = document.currentScript.previousElementSibling;\n",
       "    if (outputDiv.id !== \"altair-viz-ea7a8e5ea8a642a591d62b09437a6f91\") {\n",
       "      outputDiv = document.getElementById(\"altair-viz-ea7a8e5ea8a642a591d62b09437a6f91\");\n",
       "    }\n",
       "    const paths = {\n",
       "      \"vega\": \"https://cdn.jsdelivr.net/npm//vega@5?noext\",\n",
       "      \"vega-lib\": \"https://cdn.jsdelivr.net/npm//vega-lib?noext\",\n",
       "      \"vega-lite\": \"https://cdn.jsdelivr.net/npm//vega-lite@4.8.1?noext\",\n",
       "      \"vega-embed\": \"https://cdn.jsdelivr.net/npm//vega-embed@6?noext\",\n",
       "    };\n",
       "\n",
       "    function loadScript(lib) {\n",
       "      return new Promise(function(resolve, reject) {\n",
       "        var s = document.createElement('script');\n",
       "        s.src = paths[lib];\n",
       "        s.async = true;\n",
       "        s.onload = () => resolve(paths[lib]);\n",
       "        s.onerror = () => reject(`Error loading script: ${paths[lib]}`);\n",
       "        document.getElementsByTagName(\"head\")[0].appendChild(s);\n",
       "      });\n",
       "    }\n",
       "\n",
       "    function showError(err) {\n",
       "      outputDiv.innerHTML = `<div class=\"error\" style=\"color:red;\">${err}</div>`;\n",
       "      throw err;\n",
       "    }\n",
       "\n",
       "    function displayChart(vegaEmbed) {\n",
       "      vegaEmbed(outputDiv, spec, embedOpt)\n",
       "        .catch(err => showError(`Javascript Error: ${err.message}<br>This usually means there's a typo in your chart specification. See the javascript console for the full traceback.`));\n",
       "    }\n",
       "\n",
       "    if(typeof define === \"function\" && define.amd) {\n",
       "      requirejs.config({paths});\n",
       "      require([\"vega-embed\"], displayChart, err => showError(`Error loading script: ${err.message}`));\n",
       "    } else if (typeof vegaEmbed === \"function\") {\n",
       "      displayChart(vegaEmbed);\n",
       "    } else {\n",
       "      loadScript(\"vega\")\n",
       "        .then(() => loadScript(\"vega-lite\"))\n",
       "        .then(() => loadScript(\"vega-embed\"))\n",
       "        .catch(showError)\n",
       "        .then(() => displayChart(vegaEmbed));\n",
       "    }\n",
       "  })({\"config\": {\"view\": {\"continuousWidth\": 400, \"continuousHeight\": 300}}, \"data\": {\"name\": \"data-55008d058e87c5e656810dfa28992a32\"}, \"mark\": \"trail\", \"encoding\": {\"size\": {\"type\": \"quantitative\", \"field\": \"Total\"}, \"x\": {\"type\": \"temporal\", \"field\": \"Date\"}, \"y\": {\"type\": \"quantitative\", \"field\": \"Total\"}}, \"width\": 600, \"$schema\": \"https://vega.github.io/schema/vega-lite/v4.8.1.json\", \"datasets\": {\"data-55008d058e87c5e656810dfa28992a32\": [{\"Date\": \"2018-09-14T00:00:00\", \"Total\": 2}, {\"Date\": \"2018-09-25T00:00:00\", \"Total\": 5}, {\"Date\": \"2018-10-04T00:00:00\", \"Total\": 1}, {\"Date\": \"2018-10-05T00:00:00\", \"Total\": 15}, {\"Date\": \"2018-10-09T00:00:00\", \"Total\": 5}, {\"Date\": \"2018-10-10T00:00:00\", \"Total\": 7}, {\"Date\": \"2018-10-22T00:00:00\", \"Total\": 3}, {\"Date\": \"2018-10-23T00:00:00\", \"Total\": 121}, {\"Date\": \"2018-10-24T00:00:00\", \"Total\": 99}, {\"Date\": \"2018-10-25T00:00:00\", \"Total\": 98}, {\"Date\": \"2018-10-26T00:00:00\", \"Total\": 60}, {\"Date\": \"2018-10-29T00:00:00\", \"Total\": 100}, {\"Date\": \"2018-10-30T00:00:00\", \"Total\": 66}, {\"Date\": \"2018-10-31T00:00:00\", \"Total\": 64}, {\"Date\": \"2018-11-02T00:00:00\", \"Total\": 25}, {\"Date\": \"2018-11-05T00:00:00\", \"Total\": 62}, {\"Date\": \"2018-11-06T00:00:00\", \"Total\": 76}, {\"Date\": \"2018-11-07T00:00:00\", \"Total\": 55}, {\"Date\": \"2018-11-08T00:00:00\", \"Total\": 52}, {\"Date\": \"2018-11-09T00:00:00\", \"Total\": 61}, {\"Date\": \"2018-11-12T00:00:00\", \"Total\": 59}, {\"Date\": \"2018-11-13T00:00:00\", \"Total\": 35}, {\"Date\": \"2018-11-14T00:00:00\", \"Total\": 52}, {\"Date\": \"2018-11-15T00:00:00\", \"Total\": 51}, {\"Date\": \"2018-11-16T00:00:00\", \"Total\": 56}, {\"Date\": \"2018-11-19T00:00:00\", \"Total\": 78}, {\"Date\": \"2018-11-20T00:00:00\", \"Total\": 67}, {\"Date\": \"2018-11-21T00:00:00\", \"Total\": 42}, {\"Date\": \"2018-11-22T00:00:00\", \"Total\": 91}, {\"Date\": \"2018-11-23T00:00:00\", \"Total\": 47}, {\"Date\": \"2018-11-26T00:00:00\", \"Total\": 83}, {\"Date\": \"2018-11-27T00:00:00\", \"Total\": 71}, {\"Date\": \"2018-11-28T00:00:00\", \"Total\": 68}, {\"Date\": \"2018-11-29T00:00:00\", \"Total\": 84}, {\"Date\": \"2018-11-30T00:00:00\", \"Total\": 67}, {\"Date\": \"2018-12-03T00:00:00\", \"Total\": 134}, {\"Date\": \"2018-12-04T00:00:00\", \"Total\": 88}, {\"Date\": \"2018-12-05T00:00:00\", \"Total\": 108}, {\"Date\": \"2018-12-06T00:00:00\", \"Total\": 156}, {\"Date\": \"2018-12-07T00:00:00\", \"Total\": 38}, {\"Date\": \"2018-12-10T00:00:00\", \"Total\": 99}, {\"Date\": \"2018-12-11T00:00:00\", \"Total\": 76}, {\"Date\": \"2018-12-12T00:00:00\", \"Total\": 61}, {\"Date\": \"2018-12-13T00:00:00\", \"Total\": 56}, {\"Date\": \"2018-12-14T00:00:00\", \"Total\": 44}, {\"Date\": \"2018-12-17T00:00:00\", \"Total\": 34}, {\"Date\": \"2018-12-18T00:00:00\", \"Total\": 100}, {\"Date\": \"2018-12-19T00:00:00\", \"Total\": 130}, {\"Date\": \"2018-12-20T00:00:00\", \"Total\": 98}, {\"Date\": \"2018-12-21T00:00:00\", \"Total\": 60}, {\"Date\": \"2018-12-26T00:00:00\", \"Total\": 34}, {\"Date\": \"2018-12-27T00:00:00\", \"Total\": 24}, {\"Date\": \"2018-12-28T00:00:00\", \"Total\": 11}, {\"Date\": \"2018-12-31T00:00:00\", \"Total\": 19}, {\"Date\": \"2019-01-02T00:00:00\", \"Total\": 94}, {\"Date\": \"2019-01-03T00:00:00\", \"Total\": 90}, {\"Date\": \"2019-01-04T00:00:00\", \"Total\": 38}, {\"Date\": \"2019-01-07T00:00:00\", \"Total\": 91}, {\"Date\": \"2019-01-08T00:00:00\", \"Total\": 99}, {\"Date\": \"2019-01-09T00:00:00\", \"Total\": 72}, {\"Date\": \"2019-01-10T00:00:00\", \"Total\": 96}, {\"Date\": \"2019-01-11T00:00:00\", \"Total\": 46}, {\"Date\": \"2019-01-14T00:00:00\", \"Total\": 102}, {\"Date\": \"2019-01-15T00:00:00\", \"Total\": 94}, {\"Date\": \"2019-01-16T00:00:00\", \"Total\": 74}, {\"Date\": \"2019-01-17T00:00:00\", \"Total\": 28}, {\"Date\": \"2019-01-18T00:00:00\", \"Total\": 42}, {\"Date\": \"2019-01-21T00:00:00\", \"Total\": 115}, {\"Date\": \"2019-01-22T00:00:00\", \"Total\": 118}, {\"Date\": \"2019-01-23T00:00:00\", \"Total\": 67}, {\"Date\": \"2019-01-24T00:00:00\", \"Total\": 79}, {\"Date\": \"2019-01-25T00:00:00\", \"Total\": 92}, {\"Date\": \"2019-01-28T00:00:00\", \"Total\": 88}, {\"Date\": \"2019-01-29T00:00:00\", \"Total\": 109}, {\"Date\": \"2019-01-30T00:00:00\", \"Total\": 58}, {\"Date\": \"2019-01-31T00:00:00\", \"Total\": 83}, {\"Date\": \"2019-02-01T00:00:00\", \"Total\": 50}, {\"Date\": \"2019-02-04T00:00:00\", \"Total\": 100}, {\"Date\": \"2019-02-05T00:00:00\", \"Total\": 73}, {\"Date\": \"2019-02-06T00:00:00\", \"Total\": 52}, {\"Date\": \"2019-02-07T00:00:00\", \"Total\": 60}, {\"Date\": \"2019-02-08T00:00:00\", \"Total\": 64}, {\"Date\": \"2019-02-11T00:00:00\", \"Total\": 85}, {\"Date\": \"2019-02-12T00:00:00\", \"Total\": 61}, {\"Date\": \"2019-02-13T00:00:00\", \"Total\": 46}, {\"Date\": \"2019-02-14T00:00:00\", \"Total\": 65}, {\"Date\": \"2019-02-15T00:00:00\", \"Total\": 49}, {\"Date\": \"2019-02-18T00:00:00\", \"Total\": 88}, {\"Date\": \"2019-02-19T00:00:00\", \"Total\": 76}, {\"Date\": \"2019-02-20T00:00:00\", \"Total\": 5}, {\"Date\": \"2019-02-21T00:00:00\", \"Total\": 90}, {\"Date\": \"2019-02-22T00:00:00\", \"Total\": 37}, {\"Date\": \"2019-02-25T00:00:00\", \"Total\": 58}, {\"Date\": \"2019-02-26T00:00:00\", \"Total\": 61}, {\"Date\": \"2019-02-27T00:00:00\", \"Total\": 33}, {\"Date\": \"2019-02-28T00:00:00\", \"Total\": 71}, {\"Date\": \"2019-03-01T00:00:00\", \"Total\": 44}, {\"Date\": \"2019-03-04T00:00:00\", \"Total\": 87}, {\"Date\": \"2019-03-05T00:00:00\", \"Total\": 74}, {\"Date\": \"2019-03-06T00:00:00\", \"Total\": 59}, {\"Date\": \"2019-03-07T00:00:00\", \"Total\": 54}, {\"Date\": \"2019-03-08T00:00:00\", \"Total\": 39}, {\"Date\": \"2019-03-11T00:00:00\", \"Total\": 76}, {\"Date\": \"2019-03-12T00:00:00\", \"Total\": 42}, {\"Date\": \"2019-03-13T00:00:00\", \"Total\": 94}, {\"Date\": \"2019-03-14T00:00:00\", \"Total\": 115}, {\"Date\": \"2019-03-15T00:00:00\", \"Total\": 38}, {\"Date\": \"2019-03-18T00:00:00\", \"Total\": 83}, {\"Date\": \"2019-03-19T00:00:00\", \"Total\": 70}, {\"Date\": \"2019-03-20T00:00:00\", \"Total\": 87}, {\"Date\": \"2019-03-21T00:00:00\", \"Total\": 103}, {\"Date\": \"2019-03-22T00:00:00\", \"Total\": 38}, {\"Date\": \"2019-03-25T00:00:00\", \"Total\": 54}, {\"Date\": \"2019-03-26T00:00:00\", \"Total\": 68}, {\"Date\": \"2019-03-27T00:00:00\", \"Total\": 47}, {\"Date\": \"2019-03-28T00:00:00\", \"Total\": 73}, {\"Date\": \"2019-03-29T00:00:00\", \"Total\": 40}, {\"Date\": \"2019-04-01T00:00:00\", \"Total\": 78}, {\"Date\": \"2019-04-02T00:00:00\", \"Total\": 66}, {\"Date\": \"2019-04-03T00:00:00\", \"Total\": 36}, {\"Date\": \"2019-04-04T00:00:00\", \"Total\": 34}, {\"Date\": \"2019-04-05T00:00:00\", \"Total\": 57}, {\"Date\": \"2019-04-08T00:00:00\", \"Total\": 75}, {\"Date\": \"2019-04-09T00:00:00\", \"Total\": 62}, {\"Date\": \"2019-04-10T00:00:00\", \"Total\": 69}, {\"Date\": \"2019-04-11T00:00:00\", \"Total\": 97}, {\"Date\": \"2019-04-12T00:00:00\", \"Total\": 84}, {\"Date\": \"2019-04-15T00:00:00\", \"Total\": 74}, {\"Date\": \"2019-04-16T00:00:00\", \"Total\": 49}, {\"Date\": \"2019-04-17T00:00:00\", \"Total\": 65}, {\"Date\": \"2019-04-18T00:00:00\", \"Total\": 47}, {\"Date\": \"2019-04-19T00:00:00\", \"Total\": 27}, {\"Date\": \"2019-04-23T00:00:00\", \"Total\": 81}, {\"Date\": \"2019-04-24T00:00:00\", \"Total\": 48}, {\"Date\": \"2019-04-25T00:00:00\", \"Total\": 44}, {\"Date\": \"2019-04-26T00:00:00\", \"Total\": 28}, {\"Date\": \"2019-04-29T00:00:00\", \"Total\": 53}, {\"Date\": \"2019-04-30T00:00:00\", \"Total\": 55}, {\"Date\": \"2019-05-02T00:00:00\", \"Total\": 70}, {\"Date\": \"2019-05-03T00:00:00\", \"Total\": 54}, {\"Date\": \"2019-05-06T00:00:00\", \"Total\": 87}, {\"Date\": \"2019-05-07T00:00:00\", \"Total\": 99}, {\"Date\": \"2019-05-09T00:00:00\", \"Total\": 106}, {\"Date\": \"2019-05-10T00:00:00\", \"Total\": 65}, {\"Date\": \"2019-05-13T00:00:00\", \"Total\": 85}, {\"Date\": \"2019-05-14T00:00:00\", \"Total\": 49}, {\"Date\": \"2019-05-15T00:00:00\", \"Total\": 52}, {\"Date\": \"2019-05-16T00:00:00\", \"Total\": 91}, {\"Date\": \"2019-05-17T00:00:00\", \"Total\": 53}, {\"Date\": \"2019-05-20T00:00:00\", \"Total\": 90}, {\"Date\": \"2019-05-21T00:00:00\", \"Total\": 74}, {\"Date\": \"2019-05-22T00:00:00\", \"Total\": 59}, {\"Date\": \"2019-05-23T00:00:00\", \"Total\": 179}, {\"Date\": \"2019-05-24T00:00:00\", \"Total\": 97}, {\"Date\": \"2019-05-27T00:00:00\", \"Total\": 137}, {\"Date\": \"2019-05-28T00:00:00\", \"Total\": 87}, {\"Date\": \"2019-05-29T00:00:00\", \"Total\": 60}, {\"Date\": \"2019-06-03T00:00:00\", \"Total\": 159}, {\"Date\": \"2019-06-04T00:00:00\", \"Total\": 96}, {\"Date\": \"2019-06-05T00:00:00\", \"Total\": 72}, {\"Date\": \"2019-06-06T00:00:00\", \"Total\": 95}, {\"Date\": \"2019-06-07T00:00:00\", \"Total\": 81}, {\"Date\": \"2019-06-11T00:00:00\", \"Total\": 130}, {\"Date\": \"2019-06-12T00:00:00\", \"Total\": 87}, {\"Date\": \"2019-06-13T00:00:00\", \"Total\": 110}, {\"Date\": \"2019-06-14T00:00:00\", \"Total\": 68}, {\"Date\": \"2019-06-17T00:00:00\", \"Total\": 137}, {\"Date\": \"2019-06-18T00:00:00\", \"Total\": 76}, {\"Date\": \"2019-06-19T00:00:00\", \"Total\": 113}, {\"Date\": \"2019-06-20T00:00:00\", \"Total\": 92}, {\"Date\": \"2019-06-21T00:00:00\", \"Total\": 65}, {\"Date\": \"2019-06-24T00:00:00\", \"Total\": 63}, {\"Date\": \"2019-06-25T00:00:00\", \"Total\": 83}, {\"Date\": \"2019-06-26T00:00:00\", \"Total\": 75}, {\"Date\": \"2019-06-27T00:00:00\", \"Total\": 81}, {\"Date\": \"2019-06-28T00:00:00\", \"Total\": 47}, {\"Date\": \"2019-07-01T00:00:00\", \"Total\": 111}, {\"Date\": \"2019-07-02T00:00:00\", \"Total\": 100}, {\"Date\": \"2019-07-03T00:00:00\", \"Total\": 72}, {\"Date\": \"2019-07-04T00:00:00\", \"Total\": 80}, {\"Date\": \"2019-07-05T00:00:00\", \"Total\": 53}, {\"Date\": \"2019-07-08T00:00:00\", \"Total\": 72}, {\"Date\": \"2019-07-09T00:00:00\", \"Total\": 83}, {\"Date\": \"2019-07-10T00:00:00\", \"Total\": 68}, {\"Date\": \"2019-07-11T00:00:00\", \"Total\": 94}, {\"Date\": \"2019-07-12T00:00:00\", \"Total\": 64}, {\"Date\": \"2019-07-15T00:00:00\", \"Total\": 87}, {\"Date\": \"2019-07-16T00:00:00\", \"Total\": 81}, {\"Date\": \"2019-07-17T00:00:00\", \"Total\": 75}, {\"Date\": \"2019-07-18T00:00:00\", \"Total\": 51}, {\"Date\": \"2019-07-19T00:00:00\", \"Total\": 53}, {\"Date\": \"2019-07-22T00:00:00\", \"Total\": 87}, {\"Date\": \"2019-07-23T00:00:00\", \"Total\": 95}, {\"Date\": \"2019-07-24T00:00:00\", \"Total\": 92}, {\"Date\": \"2019-07-25T00:00:00\", \"Total\": 99}, {\"Date\": \"2019-07-26T00:00:00\", \"Total\": 66}, {\"Date\": \"2019-07-29T00:00:00\", \"Total\": 62}, {\"Date\": \"2019-07-30T00:00:00\", \"Total\": 50}, {\"Date\": \"2019-07-31T00:00:00\", \"Total\": 40}, {\"Date\": \"2019-08-01T00:00:00\", \"Total\": 51}, {\"Date\": \"2019-08-02T00:00:00\", \"Total\": 33}, {\"Date\": \"2019-08-05T00:00:00\", \"Total\": 60}, {\"Date\": \"2019-08-06T00:00:00\", \"Total\": 53}, {\"Date\": \"2019-08-07T00:00:00\", \"Total\": 38}, {\"Date\": \"2019-08-08T00:00:00\", \"Total\": 32}, {\"Date\": \"2019-08-09T00:00:00\", \"Total\": 34}, {\"Date\": \"2019-08-12T00:00:00\", \"Total\": 73}, {\"Date\": \"2019-08-13T00:00:00\", \"Total\": 33}, {\"Date\": \"2019-08-14T00:00:00\", \"Total\": 17}, {\"Date\": \"2019-08-19T00:00:00\", \"Total\": 88}, {\"Date\": \"2019-08-20T00:00:00\", \"Total\": 74}, {\"Date\": \"2019-08-21T00:00:00\", \"Total\": 39}, {\"Date\": \"2019-08-22T00:00:00\", \"Total\": 55}, {\"Date\": \"2019-08-23T00:00:00\", \"Total\": 31}, {\"Date\": \"2019-08-26T00:00:00\", \"Total\": 90}, {\"Date\": \"2019-08-27T00:00:00\", \"Total\": 87}, {\"Date\": \"2019-08-28T00:00:00\", \"Total\": 68}, {\"Date\": \"2019-08-29T00:00:00\", \"Total\": 70}, {\"Date\": \"2019-08-30T00:00:00\", \"Total\": 33}, {\"Date\": \"2019-09-02T00:00:00\", \"Total\": 118}, {\"Date\": \"2019-09-03T00:00:00\", \"Total\": 105}, {\"Date\": \"2019-09-04T00:00:00\", \"Total\": 86}, {\"Date\": \"2019-09-05T00:00:00\", \"Total\": 82}, {\"Date\": \"2019-09-06T00:00:00\", \"Total\": 73}, {\"Date\": \"2019-09-09T00:00:00\", \"Total\": 105}, {\"Date\": \"2019-09-10T00:00:00\", \"Total\": 106}, {\"Date\": \"2019-09-11T00:00:00\", \"Total\": 56}, {\"Date\": \"2019-09-12T00:00:00\", \"Total\": 143}, {\"Date\": \"2019-09-13T00:00:00\", \"Total\": 65}, {\"Date\": \"2019-09-16T00:00:00\", \"Total\": 61}, {\"Date\": \"2019-09-17T00:00:00\", \"Total\": 78}, {\"Date\": \"2019-09-18T00:00:00\", \"Total\": 65}, {\"Date\": \"2019-09-19T00:00:00\", \"Total\": 75}, {\"Date\": \"2019-09-20T00:00:00\", \"Total\": 66}, {\"Date\": \"2019-09-23T00:00:00\", \"Total\": 71}, {\"Date\": \"2019-09-24T00:00:00\", \"Total\": 48}, {\"Date\": \"2019-09-25T00:00:00\", \"Total\": 53}, {\"Date\": \"2019-09-26T00:00:00\", \"Total\": 69}, {\"Date\": \"2019-09-27T00:00:00\", \"Total\": 61}, {\"Date\": \"2019-09-30T00:00:00\", \"Total\": 58}, {\"Date\": \"2019-10-01T00:00:00\", \"Total\": 83}, {\"Date\": \"2019-10-02T00:00:00\", \"Total\": 59}, {\"Date\": \"2019-10-03T00:00:00\", \"Total\": 83}, {\"Date\": \"2019-10-04T00:00:00\", \"Total\": 42}, {\"Date\": \"2019-10-07T00:00:00\", \"Total\": 91}, {\"Date\": \"2019-10-08T00:00:00\", \"Total\": 61}, {\"Date\": \"2019-10-09T00:00:00\", \"Total\": 53}, {\"Date\": \"2019-10-10T00:00:00\", \"Total\": 60}, {\"Date\": \"2019-10-11T00:00:00\", \"Total\": 66}, {\"Date\": \"2019-10-14T00:00:00\", \"Total\": 75}, {\"Date\": \"2019-10-15T00:00:00\", \"Total\": 55}, {\"Date\": \"2019-10-16T00:00:00\", \"Total\": 44}, {\"Date\": \"2019-10-17T00:00:00\", \"Total\": 50}, {\"Date\": \"2019-10-18T00:00:00\", \"Total\": 60}, {\"Date\": \"2019-10-21T00:00:00\", \"Total\": 56}, {\"Date\": \"2019-10-22T00:00:00\", \"Total\": 96}, {\"Date\": \"2019-10-23T00:00:00\", \"Total\": 57}, {\"Date\": \"2019-10-24T00:00:00\", \"Total\": 52}, {\"Date\": \"2019-10-25T00:00:00\", \"Total\": 95}, {\"Date\": \"2019-10-28T00:00:00\", \"Total\": 139}, {\"Date\": \"2019-10-29T00:00:00\", \"Total\": 135}, {\"Date\": \"2019-10-30T00:00:00\", \"Total\": 148}, {\"Date\": \"2019-10-31T00:00:00\", \"Total\": 131}, {\"Date\": \"2019-11-01T00:00:00\", \"Total\": 1}, {\"Date\": \"2019-11-04T00:00:00\", \"Total\": 151}, {\"Date\": \"2019-11-05T00:00:00\", \"Total\": 114}, {\"Date\": \"2019-11-06T00:00:00\", \"Total\": 105}, {\"Date\": \"2019-11-07T00:00:00\", \"Total\": 69}, {\"Date\": \"2019-11-08T00:00:00\", \"Total\": 76}, {\"Date\": \"2019-11-12T00:00:00\", \"Total\": 140}, {\"Date\": \"2019-11-13T00:00:00\", \"Total\": 74}, {\"Date\": \"2019-11-14T00:00:00\", \"Total\": 93}, {\"Date\": \"2019-11-15T00:00:00\", \"Total\": 27}, {\"Date\": \"2019-11-28T00:00:00\", \"Total\": 80}, {\"Date\": \"2019-11-29T00:00:00\", \"Total\": 50}, {\"Date\": \"2019-12-02T00:00:00\", \"Total\": 133}, {\"Date\": \"2019-12-03T00:00:00\", \"Total\": 138}, {\"Date\": \"2019-12-04T00:00:00\", \"Total\": 86}, {\"Date\": \"2019-12-05T00:00:00\", \"Total\": 66}, {\"Date\": \"2019-12-06T00:00:00\", \"Total\": 62}, {\"Date\": \"2019-12-09T00:00:00\", \"Total\": 111}, {\"Date\": \"2019-12-10T00:00:00\", \"Total\": 88}, {\"Date\": \"2019-12-11T00:00:00\", \"Total\": 99}, {\"Date\": \"2019-12-12T00:00:00\", \"Total\": 94}, {\"Date\": \"2019-12-13T00:00:00\", \"Total\": 97}, {\"Date\": \"2019-12-16T00:00:00\", \"Total\": 123}, {\"Date\": \"2019-12-17T00:00:00\", \"Total\": 68}, {\"Date\": \"2019-12-18T00:00:00\", \"Total\": 80}, {\"Date\": \"2019-12-19T00:00:00\", \"Total\": 87}, {\"Date\": \"2019-12-20T00:00:00\", \"Total\": 90}, {\"Date\": \"2019-12-23T00:00:00\", \"Total\": 34}, {\"Date\": \"2019-12-24T00:00:00\", \"Total\": 18}, {\"Date\": \"2019-12-26T00:00:00\", \"Total\": 43}, {\"Date\": \"2019-12-27T00:00:00\", \"Total\": 9}, {\"Date\": \"2019-12-30T00:00:00\", \"Total\": 39}, {\"Date\": \"2019-12-31T00:00:00\", \"Total\": 25}, {\"Date\": \"2020-01-02T00:00:00\", \"Total\": 63}, {\"Date\": \"2020-01-03T00:00:00\", \"Total\": 30}, {\"Date\": \"2020-01-06T00:00:00\", \"Total\": 129}, {\"Date\": \"2020-01-07T00:00:00\", \"Total\": 71}, {\"Date\": \"2020-01-08T00:00:00\", \"Total\": 84}, {\"Date\": \"2020-01-09T00:00:00\", \"Total\": 100}, {\"Date\": \"2020-01-10T00:00:00\", \"Total\": 3}, {\"Date\": \"2020-01-13T00:00:00\", \"Total\": 74}, {\"Date\": \"2020-01-14T00:00:00\", \"Total\": 57}, {\"Date\": \"2020-01-15T00:00:00\", \"Total\": 88}, {\"Date\": \"2020-01-16T00:00:00\", \"Total\": 78}, {\"Date\": \"2020-01-17T00:00:00\", \"Total\": 88}, {\"Date\": \"2020-01-20T00:00:00\", \"Total\": 107}, {\"Date\": \"2020-01-21T00:00:00\", \"Total\": 102}, {\"Date\": \"2020-01-22T00:00:00\", \"Total\": 88}, {\"Date\": \"2020-01-23T00:00:00\", \"Total\": 146}, {\"Date\": \"2020-01-24T00:00:00\", \"Total\": 145}, {\"Date\": \"2020-01-27T00:00:00\", \"Total\": 153}, {\"Date\": \"2020-01-28T00:00:00\", \"Total\": 146}, {\"Date\": \"2020-01-29T00:00:00\", \"Total\": 110}, {\"Date\": \"2020-01-30T00:00:00\", \"Total\": 104}, {\"Date\": \"2020-01-31T00:00:00\", \"Total\": 136}, {\"Date\": \"2020-02-03T00:00:00\", \"Total\": 154}, {\"Date\": \"2020-02-04T00:00:00\", \"Total\": 174}, {\"Date\": \"2020-02-05T00:00:00\", \"Total\": 124}, {\"Date\": \"2020-02-06T00:00:00\", \"Total\": 107}, {\"Date\": \"2020-02-07T00:00:00\", \"Total\": 95}, {\"Date\": \"2020-02-10T00:00:00\", \"Total\": 161}, {\"Date\": \"2020-02-11T00:00:00\", \"Total\": 165}, {\"Date\": \"2020-02-12T00:00:00\", \"Total\": 123}, {\"Date\": \"2020-02-13T00:00:00\", \"Total\": 130}, {\"Date\": \"2020-02-14T00:00:00\", \"Total\": 113}, {\"Date\": \"2020-02-17T00:00:00\", \"Total\": 171}, {\"Date\": \"2020-02-18T00:00:00\", \"Total\": 139}, {\"Date\": \"2020-02-19T00:00:00\", \"Total\": 99}, {\"Date\": \"2020-02-20T00:00:00\", \"Total\": 156}, {\"Date\": \"2020-02-21T00:00:00\", \"Total\": 114}, {\"Date\": \"2020-02-24T00:00:00\", \"Total\": 101}, {\"Date\": \"2020-02-25T00:00:00\", \"Total\": 85}, {\"Date\": \"2020-02-26T00:00:00\", \"Total\": 77}, {\"Date\": \"2020-02-27T00:00:00\", \"Total\": 109}, {\"Date\": \"2020-02-28T00:00:00\", \"Total\": 53}, {\"Date\": \"2020-03-02T00:00:00\", \"Total\": 125}, {\"Date\": \"2020-03-03T00:00:00\", \"Total\": 111}, {\"Date\": \"2020-03-04T00:00:00\", \"Total\": 85}, {\"Date\": \"2020-03-05T00:00:00\", \"Total\": 84}, {\"Date\": \"2020-03-06T00:00:00\", \"Total\": 72}, {\"Date\": \"2020-03-09T00:00:00\", \"Total\": 127}, {\"Date\": \"2020-03-10T00:00:00\", \"Total\": 94}, {\"Date\": \"2020-03-11T00:00:00\", \"Total\": 92}, {\"Date\": \"2020-03-12T00:00:00\", \"Total\": 97}, {\"Date\": \"2020-03-13T00:00:00\", \"Total\": 129}, {\"Date\": \"2020-03-16T00:00:00\", \"Total\": 237}, {\"Date\": \"2020-03-17T00:00:00\", \"Total\": 52}, {\"Date\": \"2020-05-11T00:00:00\", \"Total\": 75}, {\"Date\": \"2020-05-12T00:00:00\", \"Total\": 70}, {\"Date\": \"2020-05-13T00:00:00\", \"Total\": 48}, {\"Date\": \"2020-05-14T00:00:00\", \"Total\": 38}, {\"Date\": \"2020-05-15T00:00:00\", \"Total\": 20}, {\"Date\": \"2020-05-18T00:00:00\", \"Total\": 73}, {\"Date\": \"2020-05-19T00:00:00\", \"Total\": 69}, {\"Date\": \"2020-05-20T00:00:00\", \"Total\": 34}, {\"Date\": \"2020-05-22T00:00:00\", \"Total\": 20}, {\"Date\": \"2020-05-25T00:00:00\", \"Total\": 89}, {\"Date\": \"2020-05-26T00:00:00\", \"Total\": 81}, {\"Date\": \"2020-05-27T00:00:00\", \"Total\": 122}, {\"Date\": \"2020-05-28T00:00:00\", \"Total\": 73}, {\"Date\": \"2020-05-29T00:00:00\", \"Total\": 54}, {\"Date\": \"2020-06-02T00:00:00\", \"Total\": 99}, {\"Date\": \"2020-06-03T00:00:00\", \"Total\": 94}, {\"Date\": \"2020-06-04T00:00:00\", \"Total\": 93}, {\"Date\": \"2020-06-05T00:00:00\", \"Total\": 69}, {\"Date\": \"2020-06-08T00:00:00\", \"Total\": 129}, {\"Date\": \"2020-06-09T00:00:00\", \"Total\": 110}, {\"Date\": \"2020-06-10T00:00:00\", \"Total\": 82}, {\"Date\": \"2020-06-11T00:00:00\", \"Total\": 103}, {\"Date\": \"2020-06-12T00:00:00\", \"Total\": 76}, {\"Date\": \"2020-06-15T00:00:00\", \"Total\": 213}, {\"Date\": \"2020-06-16T00:00:00\", \"Total\": 187}, {\"Date\": \"2020-06-17T00:00:00\", \"Total\": 171}, {\"Date\": \"2020-06-18T00:00:00\", \"Total\": 181}, {\"Date\": \"2020-06-19T00:00:00\", \"Total\": 67}, {\"Date\": \"2020-06-22T00:00:00\", \"Total\": 142}, {\"Date\": \"2020-06-23T00:00:00\", \"Total\": 112}, {\"Date\": \"2020-06-24T00:00:00\", \"Total\": 87}, {\"Date\": \"2020-06-25T00:00:00\", \"Total\": 142}, {\"Date\": \"2020-06-26T00:00:00\", \"Total\": 55}, {\"Date\": \"2020-06-29T00:00:00\", \"Total\": 141}, {\"Date\": \"2020-06-30T00:00:00\", \"Total\": 118}, {\"Date\": \"2020-07-01T00:00:00\", \"Total\": 143}, {\"Date\": \"2020-07-02T00:00:00\", \"Total\": 128}, {\"Date\": \"2020-07-03T00:00:00\", \"Total\": 82}, {\"Date\": \"2020-07-06T00:00:00\", \"Total\": 163}, {\"Date\": \"2020-07-07T00:00:00\", \"Total\": 126}, {\"Date\": \"2020-07-08T00:00:00\", \"Total\": 132}, {\"Date\": \"2020-07-09T00:00:00\", \"Total\": 132}, {\"Date\": \"2020-07-10T00:00:00\", \"Total\": 121}, {\"Date\": \"2020-07-13T00:00:00\", \"Total\": 4}, {\"Date\": \"2020-07-15T00:00:00\", \"Total\": 86}, {\"Date\": \"2020-07-16T00:00:00\", \"Total\": 92}, {\"Date\": \"2020-07-17T00:00:00\", \"Total\": 64}, {\"Date\": \"2020-07-20T00:00:00\", \"Total\": 107}, {\"Date\": \"2020-07-21T00:00:00\", \"Total\": 76}, {\"Date\": \"2020-07-22T00:00:00\", \"Total\": 97}, {\"Date\": \"2020-07-23T00:00:00\", \"Total\": 100}, {\"Date\": \"2020-07-24T00:00:00\", \"Total\": 50}, {\"Date\": \"2020-07-27T00:00:00\", \"Total\": 135}, {\"Date\": \"2020-07-28T00:00:00\", \"Total\": 101}, {\"Date\": \"2020-07-29T00:00:00\", \"Total\": 83}, {\"Date\": \"2020-07-30T00:00:00\", \"Total\": 64}, {\"Date\": \"2020-07-31T00:00:00\", \"Total\": 50}, {\"Date\": \"2020-08-03T00:00:00\", \"Total\": 100}, {\"Date\": \"2020-08-04T00:00:00\", \"Total\": 73}, {\"Date\": \"2020-08-05T00:00:00\", \"Total\": 53}, {\"Date\": \"2020-08-06T00:00:00\", \"Total\": 39}, {\"Date\": \"2020-08-07T00:00:00\", \"Total\": 31}, {\"Date\": \"2020-08-10T00:00:00\", \"Total\": 100}, {\"Date\": \"2020-08-11T00:00:00\", \"Total\": 108}, {\"Date\": \"2020-08-12T00:00:00\", \"Total\": 57}, {\"Date\": \"2020-08-13T00:00:00\", \"Total\": 61}, {\"Date\": \"2020-08-14T00:00:00\", \"Total\": 24}, {\"Date\": \"2020-08-17T00:00:00\", \"Total\": 74}, {\"Date\": \"2020-08-18T00:00:00\", \"Total\": 64}, {\"Date\": \"2020-08-19T00:00:00\", \"Total\": 47}, {\"Date\": \"2020-08-20T00:00:00\", \"Total\": 41}, {\"Date\": \"2020-08-21T00:00:00\", \"Total\": 44}, {\"Date\": \"2020-08-24T00:00:00\", \"Total\": 91}, {\"Date\": \"2020-08-25T00:00:00\", \"Total\": 94}, {\"Date\": \"2020-08-26T00:00:00\", \"Total\": 65}, {\"Date\": \"2020-08-27T00:00:00\", \"Total\": 87}, {\"Date\": \"2020-08-28T00:00:00\", \"Total\": 31}, {\"Date\": \"2020-08-31T00:00:00\", \"Total\": 120}, {\"Date\": \"2020-09-01T00:00:00\", \"Total\": 131}, {\"Date\": \"2020-09-02T00:00:00\", \"Total\": 137}, {\"Date\": \"2020-09-03T00:00:00\", \"Total\": 139}, {\"Date\": \"2020-09-04T00:00:00\", \"Total\": 92}, {\"Date\": \"2020-09-07T00:00:00\", \"Total\": 116}, {\"Date\": \"2020-09-08T00:00:00\", \"Total\": 187}, {\"Date\": \"2020-09-09T00:00:00\", \"Total\": 84}, {\"Date\": \"2020-09-10T00:00:00\", \"Total\": 100}, {\"Date\": \"2020-09-11T00:00:00\", \"Total\": 108}, {\"Date\": \"2020-09-14T00:00:00\", \"Total\": 142}, {\"Date\": \"2020-09-15T00:00:00\", \"Total\": 132}, {\"Date\": \"2020-09-16T00:00:00\", \"Total\": 112}, {\"Date\": \"2020-09-17T00:00:00\", \"Total\": 101}, {\"Date\": \"2020-09-18T00:00:00\", \"Total\": 84}, {\"Date\": \"2020-09-21T00:00:00\", \"Total\": 115}, {\"Date\": \"2020-09-22T00:00:00\", \"Total\": 107}, {\"Date\": \"2020-09-23T00:00:00\", \"Total\": 80}, {\"Date\": \"2020-09-24T00:00:00\", \"Total\": 106}, {\"Date\": \"2020-09-25T00:00:00\", \"Total\": 60}, {\"Date\": \"2020-09-28T00:00:00\", \"Total\": 110}, {\"Date\": \"2020-09-29T00:00:00\", \"Total\": 106}, {\"Date\": \"2020-09-30T00:00:00\", \"Total\": 83}, {\"Date\": \"2020-10-01T00:00:00\", \"Total\": 87}]}}, {\"mode\": \"vega-lite\"});\n",
       "</script>"
      ],
      "text/plain": [
       "alt.Chart(...)"
      ]
     },
     "execution_count": 132,
     "metadata": {},
     "output_type": "execute_result"
    }
   ],
   "source": [
    "volume_chart"
   ]
  },
  {
   "cell_type": "code",
   "execution_count": 133,
   "id": "90dc430d-ab6a-42ee-95e6-63cc3e2afac5",
   "metadata": {},
   "outputs": [
    {
     "name": "stderr",
     "output_type": "stream",
     "text": [
      "/home/sorin/anaconda3/lib/node_modules/vega-lite/build/vega-lite.js:727\n",
      "      deepMerge_(dest, s ?? {});\n",
      "                          ^\n",
      "\n",
      "SyntaxError: Unexpected token ?\n",
      "    at Module._compile (internal/modules/cjs/loader.js:718:23)\n",
      "    at Object.Module._extensions..js (internal/modules/cjs/loader.js:785:10)\n",
      "    at Module.load (internal/modules/cjs/loader.js:641:32)\n",
      "    at Function.Module._load (internal/modules/cjs/loader.js:556:12)\n",
      "    at Module.require (internal/modules/cjs/loader.js:681:19)\n",
      "    at require (internal/modules/cjs/helpers.js:16:16)\n",
      "    at Object.<anonymous> (/home/sorin/anaconda3/lib/node_modules/vega-lite/bin/vl2vg:6:18)\n",
      "    at Module._compile (internal/modules/cjs/loader.js:774:30)\n",
      "    at Object.Module._extensions..js (internal/modules/cjs/loader.js:785:10)\n",
      "    at Module.load (internal/modules/cjs/loader.js:641:32)\n"
     ]
    },
    {
     "ename": "CalledProcessError",
     "evalue": "Command '['/home/sorin/anaconda3/bin/vl2vg']' returned non-zero exit status 1.",
     "output_type": "error",
     "traceback": [
      "\u001b[0;31m---------------------------------------------------------------------------\u001b[0m",
      "\u001b[0;31mCalledProcessError\u001b[0m                        Traceback (most recent call last)",
      "\u001b[0;32m<ipython-input-133-5a93aed42cf4>\u001b[0m in \u001b[0;36m<module>\u001b[0;34m\u001b[0m\n\u001b[1;32m      1\u001b[0m \u001b[0;31m#save(volume_chart, \"test.png\")\u001b[0m\u001b[0;34m\u001b[0m\u001b[0;34m\u001b[0m\u001b[0;34m\u001b[0m\u001b[0m\n\u001b[0;32m----> 2\u001b[0;31m \u001b[0mvolume_chart\u001b[0m\u001b[0;34m.\u001b[0m\u001b[0msave\u001b[0m\u001b[0;34m(\u001b[0m\u001b[0;34m\"test.png\"\u001b[0m\u001b[0;34m,\u001b[0m \u001b[0mformat\u001b[0m \u001b[0;34m=\u001b[0m \u001b[0;34m\"png\"\u001b[0m\u001b[0;34m)\u001b[0m\u001b[0;34m\u001b[0m\u001b[0;34m\u001b[0m\u001b[0m\n\u001b[0m",
      "\u001b[0;32m~/anaconda3/lib/python3.8/site-packages/altair/vegalite/v4/api.py\u001b[0m in \u001b[0;36msave\u001b[0;34m(self, fp, format, override_data_transformer, scale_factor, vegalite_version, vega_version, vegaembed_version, **kwargs)\u001b[0m\n\u001b[1;32m    474\u001b[0m         \u001b[0;32mif\u001b[0m \u001b[0moverride_data_transformer\u001b[0m\u001b[0;34m:\u001b[0m\u001b[0;34m\u001b[0m\u001b[0;34m\u001b[0m\u001b[0m\n\u001b[1;32m    475\u001b[0m             \u001b[0;32mwith\u001b[0m \u001b[0mdata_transformers\u001b[0m\u001b[0;34m.\u001b[0m\u001b[0mdisable_max_rows\u001b[0m\u001b[0;34m(\u001b[0m\u001b[0;34m)\u001b[0m\u001b[0;34m:\u001b[0m\u001b[0;34m\u001b[0m\u001b[0;34m\u001b[0m\u001b[0m\n\u001b[0;32m--> 476\u001b[0;31m                 \u001b[0mresult\u001b[0m \u001b[0;34m=\u001b[0m \u001b[0msave\u001b[0m\u001b[0;34m(\u001b[0m\u001b[0;34m**\u001b[0m\u001b[0mkwds\u001b[0m\u001b[0;34m)\u001b[0m\u001b[0;34m\u001b[0m\u001b[0;34m\u001b[0m\u001b[0m\n\u001b[0m\u001b[1;32m    477\u001b[0m         \u001b[0;32melse\u001b[0m\u001b[0;34m:\u001b[0m\u001b[0;34m\u001b[0m\u001b[0;34m\u001b[0m\u001b[0m\n\u001b[1;32m    478\u001b[0m             \u001b[0mresult\u001b[0m \u001b[0;34m=\u001b[0m \u001b[0msave\u001b[0m\u001b[0;34m(\u001b[0m\u001b[0;34m**\u001b[0m\u001b[0mkwds\u001b[0m\u001b[0;34m)\u001b[0m\u001b[0;34m\u001b[0m\u001b[0;34m\u001b[0m\u001b[0m\n",
      "\u001b[0;32m~/anaconda3/lib/python3.8/site-packages/altair/utils/save.py\u001b[0m in \u001b[0;36msave\u001b[0;34m(chart, fp, vega_version, vegaembed_version, format, mode, vegalite_version, embed_options, json_kwds, webdriver, scale_factor, **kwargs)\u001b[0m\n\u001b[1;32m    110\u001b[0m         \u001b[0mwrite_file_or_filename\u001b[0m\u001b[0;34m(\u001b[0m\u001b[0mfp\u001b[0m\u001b[0;34m,\u001b[0m \u001b[0mmimebundle\u001b[0m\u001b[0;34m[\u001b[0m\u001b[0;34m\"text/html\"\u001b[0m\u001b[0;34m]\u001b[0m\u001b[0;34m,\u001b[0m \u001b[0mmode\u001b[0m\u001b[0;34m=\u001b[0m\u001b[0;34m\"w\"\u001b[0m\u001b[0;34m)\u001b[0m\u001b[0;34m\u001b[0m\u001b[0;34m\u001b[0m\u001b[0m\n\u001b[1;32m    111\u001b[0m     \u001b[0;32melif\u001b[0m \u001b[0mformat\u001b[0m \u001b[0;32min\u001b[0m \u001b[0;34m[\u001b[0m\u001b[0;34m\"png\"\u001b[0m\u001b[0;34m,\u001b[0m \u001b[0;34m\"svg\"\u001b[0m\u001b[0;34m]\u001b[0m\u001b[0;34m:\u001b[0m\u001b[0;34m\u001b[0m\u001b[0;34m\u001b[0m\u001b[0m\n\u001b[0;32m--> 112\u001b[0;31m         mimebundle = spec_to_mimebundle(\n\u001b[0m\u001b[1;32m    113\u001b[0m             \u001b[0mspec\u001b[0m\u001b[0;34m=\u001b[0m\u001b[0mspec\u001b[0m\u001b[0;34m,\u001b[0m\u001b[0;34m\u001b[0m\u001b[0;34m\u001b[0m\u001b[0m\n\u001b[1;32m    114\u001b[0m             \u001b[0mformat\u001b[0m\u001b[0;34m=\u001b[0m\u001b[0mformat\u001b[0m\u001b[0;34m,\u001b[0m\u001b[0;34m\u001b[0m\u001b[0;34m\u001b[0m\u001b[0m\n",
      "\u001b[0;32m~/anaconda3/lib/python3.8/site-packages/altair/utils/mimebundle.py\u001b[0m in \u001b[0;36mspec_to_mimebundle\u001b[0;34m(spec, format, mode, vega_version, vegaembed_version, vegalite_version, **kwargs)\u001b[0m\n\u001b[1;32m     58\u001b[0m                 \u001b[0;34m\"see http://github.com/altair-viz/altair_saver/\"\u001b[0m\u001b[0;34m.\u001b[0m\u001b[0mformat\u001b[0m\u001b[0;34m(\u001b[0m\u001b[0mfmt\u001b[0m\u001b[0;34m=\u001b[0m\u001b[0mformat\u001b[0m\u001b[0;34m)\u001b[0m\u001b[0;34m\u001b[0m\u001b[0;34m\u001b[0m\u001b[0m\n\u001b[1;32m     59\u001b[0m             )\n\u001b[0;32m---> 60\u001b[0;31m         \u001b[0;32mreturn\u001b[0m \u001b[0maltair_saver\u001b[0m\u001b[0;34m.\u001b[0m\u001b[0mrender\u001b[0m\u001b[0;34m(\u001b[0m\u001b[0mspec\u001b[0m\u001b[0;34m,\u001b[0m \u001b[0mformat\u001b[0m\u001b[0;34m,\u001b[0m \u001b[0mmode\u001b[0m\u001b[0;34m=\u001b[0m\u001b[0mmode\u001b[0m\u001b[0;34m,\u001b[0m \u001b[0;34m**\u001b[0m\u001b[0mkwargs\u001b[0m\u001b[0;34m)\u001b[0m\u001b[0;34m\u001b[0m\u001b[0;34m\u001b[0m\u001b[0m\n\u001b[0m\u001b[1;32m     61\u001b[0m     \u001b[0;32mif\u001b[0m \u001b[0mformat\u001b[0m \u001b[0;34m==\u001b[0m \u001b[0;34m\"html\"\u001b[0m\u001b[0;34m:\u001b[0m\u001b[0;34m\u001b[0m\u001b[0;34m\u001b[0m\u001b[0m\n\u001b[1;32m     62\u001b[0m         html = spec_to_html(\n",
      "\u001b[0;32m~/anaconda3/lib/python3.8/site-packages/altair_saver/_core.py\u001b[0m in \u001b[0;36mrender\u001b[0;34m(chart, fmts, mode, embed_options, method, **kwargs)\u001b[0m\n\u001b[1;32m    255\u001b[0m         \u001b[0mSaver\u001b[0m \u001b[0;34m=\u001b[0m \u001b[0m_select_saver\u001b[0m\u001b[0;34m(\u001b[0m\u001b[0mmethod\u001b[0m\u001b[0;34m,\u001b[0m \u001b[0mmode\u001b[0m\u001b[0;34m=\u001b[0m\u001b[0mmode\u001b[0m\u001b[0;34m,\u001b[0m \u001b[0mfmt\u001b[0m\u001b[0;34m=\u001b[0m\u001b[0mfmt\u001b[0m\u001b[0;34m)\u001b[0m\u001b[0;34m\u001b[0m\u001b[0;34m\u001b[0m\u001b[0m\n\u001b[1;32m    256\u001b[0m         \u001b[0msaver\u001b[0m \u001b[0;34m=\u001b[0m \u001b[0mSaver\u001b[0m\u001b[0;34m(\u001b[0m\u001b[0mspec\u001b[0m\u001b[0;34m,\u001b[0m \u001b[0mmode\u001b[0m\u001b[0;34m=\u001b[0m\u001b[0mmode\u001b[0m\u001b[0;34m,\u001b[0m \u001b[0membed_options\u001b[0m\u001b[0;34m=\u001b[0m\u001b[0membed_options\u001b[0m\u001b[0;34m,\u001b[0m \u001b[0;34m**\u001b[0m\u001b[0mkwargs\u001b[0m\u001b[0;34m)\u001b[0m\u001b[0;34m\u001b[0m\u001b[0;34m\u001b[0m\u001b[0m\n\u001b[0;32m--> 257\u001b[0;31m         \u001b[0mmimebundle\u001b[0m\u001b[0;34m.\u001b[0m\u001b[0mupdate\u001b[0m\u001b[0;34m(\u001b[0m\u001b[0msaver\u001b[0m\u001b[0;34m.\u001b[0m\u001b[0mmimebundle\u001b[0m\u001b[0;34m(\u001b[0m\u001b[0mfmt\u001b[0m\u001b[0;34m)\u001b[0m\u001b[0;34m)\u001b[0m\u001b[0;34m\u001b[0m\u001b[0;34m\u001b[0m\u001b[0m\n\u001b[0m\u001b[1;32m    258\u001b[0m \u001b[0;34m\u001b[0m\u001b[0m\n\u001b[1;32m    259\u001b[0m     \u001b[0;32mreturn\u001b[0m \u001b[0mmimebundle\u001b[0m\u001b[0;34m\u001b[0m\u001b[0;34m\u001b[0m\u001b[0m\n",
      "\u001b[0;32m~/anaconda3/lib/python3.8/site-packages/altair_saver/savers/_saver.py\u001b[0m in \u001b[0;36mmimebundle\u001b[0;34m(self, fmts)\u001b[0m\n\u001b[1;32m     88\u001b[0m                 \u001b[0mvegalite_version\u001b[0m\u001b[0;34m=\u001b[0m\u001b[0mself\u001b[0m\u001b[0;34m.\u001b[0m\u001b[0m_package_versions\u001b[0m\u001b[0;34m[\u001b[0m\u001b[0;34m\"vega-lite\"\u001b[0m\u001b[0;34m]\u001b[0m\u001b[0;34m,\u001b[0m\u001b[0;34m\u001b[0m\u001b[0;34m\u001b[0m\u001b[0m\n\u001b[1;32m     89\u001b[0m             )\n\u001b[0;32m---> 90\u001b[0;31m             \u001b[0mbundle\u001b[0m\u001b[0;34m[\u001b[0m\u001b[0mmimetype\u001b[0m\u001b[0;34m]\u001b[0m \u001b[0;34m=\u001b[0m \u001b[0mself\u001b[0m\u001b[0;34m.\u001b[0m\u001b[0m_serialize\u001b[0m\u001b[0;34m(\u001b[0m\u001b[0mfmt\u001b[0m\u001b[0;34m,\u001b[0m \u001b[0;34m\"mimebundle\"\u001b[0m\u001b[0;34m)\u001b[0m\u001b[0;34m\u001b[0m\u001b[0;34m\u001b[0m\u001b[0m\n\u001b[0m\u001b[1;32m     91\u001b[0m         \u001b[0;32mreturn\u001b[0m \u001b[0mbundle\u001b[0m\u001b[0;34m\u001b[0m\u001b[0;34m\u001b[0m\u001b[0m\n\u001b[1;32m     92\u001b[0m \u001b[0;34m\u001b[0m\u001b[0m\n",
      "\u001b[0;32m~/anaconda3/lib/python3.8/site-packages/altair_saver/savers/_node.py\u001b[0m in \u001b[0;36m_serialize\u001b[0;34m(self, fmt, content_type)\u001b[0m\n\u001b[1;32m    112\u001b[0m \u001b[0;34m\u001b[0m\u001b[0m\n\u001b[1;32m    113\u001b[0m         \u001b[0;32mif\u001b[0m \u001b[0mself\u001b[0m\u001b[0;34m.\u001b[0m\u001b[0m_mode\u001b[0m \u001b[0;34m==\u001b[0m \u001b[0;34m\"vega-lite\"\u001b[0m\u001b[0;34m:\u001b[0m\u001b[0;34m\u001b[0m\u001b[0;34m\u001b[0m\u001b[0m\n\u001b[0;32m--> 114\u001b[0;31m             \u001b[0mspec\u001b[0m \u001b[0;34m=\u001b[0m \u001b[0mself\u001b[0m\u001b[0;34m.\u001b[0m\u001b[0m_vl2vg\u001b[0m\u001b[0;34m(\u001b[0m\u001b[0mspec\u001b[0m\u001b[0;34m)\u001b[0m\u001b[0;34m\u001b[0m\u001b[0;34m\u001b[0m\u001b[0m\n\u001b[0m\u001b[1;32m    115\u001b[0m \u001b[0;34m\u001b[0m\u001b[0m\n\u001b[1;32m    116\u001b[0m         \u001b[0;32mif\u001b[0m \u001b[0mfmt\u001b[0m \u001b[0;34m==\u001b[0m \u001b[0;34m\"vega\"\u001b[0m\u001b[0;34m:\u001b[0m\u001b[0;34m\u001b[0m\u001b[0;34m\u001b[0m\u001b[0m\n",
      "\u001b[0;32m~/anaconda3/lib/python3.8/site-packages/altair_saver/savers/_node.py\u001b[0m in \u001b[0;36m_vl2vg\u001b[0;34m(self, spec)\u001b[0m\n\u001b[1;32m     63\u001b[0m         \u001b[0mvl2vg\u001b[0m \u001b[0;34m=\u001b[0m \u001b[0mexec_path\u001b[0m\u001b[0;34m(\u001b[0m\u001b[0;34m\"vl2vg\"\u001b[0m\u001b[0;34m)\u001b[0m\u001b[0;34m\u001b[0m\u001b[0;34m\u001b[0m\u001b[0m\n\u001b[1;32m     64\u001b[0m         \u001b[0mvl_json\u001b[0m \u001b[0;34m=\u001b[0m \u001b[0mjson\u001b[0m\u001b[0;34m.\u001b[0m\u001b[0mdumps\u001b[0m\u001b[0;34m(\u001b[0m\u001b[0mspec\u001b[0m\u001b[0;34m)\u001b[0m\u001b[0;34m.\u001b[0m\u001b[0mencode\u001b[0m\u001b[0;34m(\u001b[0m\u001b[0;34m)\u001b[0m\u001b[0;34m\u001b[0m\u001b[0;34m\u001b[0m\u001b[0m\n\u001b[0;32m---> 65\u001b[0;31m         vg_json = check_output_with_stderr(\n\u001b[0m\u001b[1;32m     66\u001b[0m             \u001b[0;34m[\u001b[0m\u001b[0mvl2vg\u001b[0m\u001b[0;34m]\u001b[0m\u001b[0;34m,\u001b[0m \u001b[0minput\u001b[0m\u001b[0;34m=\u001b[0m\u001b[0mvl_json\u001b[0m\u001b[0;34m,\u001b[0m \u001b[0mstderr_filter\u001b[0m\u001b[0;34m=\u001b[0m\u001b[0mself\u001b[0m\u001b[0;34m.\u001b[0m\u001b[0m_stderr_filter\u001b[0m\u001b[0;34m\u001b[0m\u001b[0;34m\u001b[0m\u001b[0m\n\u001b[1;32m     67\u001b[0m         )\n",
      "\u001b[0;32m~/anaconda3/lib/python3.8/site-packages/altair_saver/_utils.py\u001b[0m in \u001b[0;36mcheck_output_with_stderr\u001b[0;34m(cmd, shell, input, stderr_filter)\u001b[0m\n\u001b[1;32m    196\u001b[0m     \"\"\"\n\u001b[1;32m    197\u001b[0m     \u001b[0;32mtry\u001b[0m\u001b[0;34m:\u001b[0m\u001b[0;34m\u001b[0m\u001b[0;34m\u001b[0m\u001b[0m\n\u001b[0;32m--> 198\u001b[0;31m         ps = subprocess.run(\n\u001b[0m\u001b[1;32m    199\u001b[0m             \u001b[0mcmd\u001b[0m\u001b[0;34m,\u001b[0m\u001b[0;34m\u001b[0m\u001b[0;34m\u001b[0m\u001b[0m\n\u001b[1;32m    200\u001b[0m             \u001b[0mshell\u001b[0m\u001b[0;34m=\u001b[0m\u001b[0mshell\u001b[0m\u001b[0;34m,\u001b[0m\u001b[0;34m\u001b[0m\u001b[0;34m\u001b[0m\u001b[0m\n",
      "\u001b[0;32m~/anaconda3/lib/python3.8/subprocess.py\u001b[0m in \u001b[0;36mrun\u001b[0;34m(input, capture_output, timeout, check, *popenargs, **kwargs)\u001b[0m\n\u001b[1;32m    514\u001b[0m         \u001b[0mretcode\u001b[0m \u001b[0;34m=\u001b[0m \u001b[0mprocess\u001b[0m\u001b[0;34m.\u001b[0m\u001b[0mpoll\u001b[0m\u001b[0;34m(\u001b[0m\u001b[0;34m)\u001b[0m\u001b[0;34m\u001b[0m\u001b[0;34m\u001b[0m\u001b[0m\n\u001b[1;32m    515\u001b[0m         \u001b[0;32mif\u001b[0m \u001b[0mcheck\u001b[0m \u001b[0;32mand\u001b[0m \u001b[0mretcode\u001b[0m\u001b[0;34m:\u001b[0m\u001b[0;34m\u001b[0m\u001b[0;34m\u001b[0m\u001b[0m\n\u001b[0;32m--> 516\u001b[0;31m             raise CalledProcessError(retcode, process.args,\n\u001b[0m\u001b[1;32m    517\u001b[0m                                      output=stdout, stderr=stderr)\n\u001b[1;32m    518\u001b[0m     \u001b[0;32mreturn\u001b[0m \u001b[0mCompletedProcess\u001b[0m\u001b[0;34m(\u001b[0m\u001b[0mprocess\u001b[0m\u001b[0;34m.\u001b[0m\u001b[0margs\u001b[0m\u001b[0;34m,\u001b[0m \u001b[0mretcode\u001b[0m\u001b[0;34m,\u001b[0m \u001b[0mstdout\u001b[0m\u001b[0;34m,\u001b[0m \u001b[0mstderr\u001b[0m\u001b[0;34m)\u001b[0m\u001b[0;34m\u001b[0m\u001b[0;34m\u001b[0m\u001b[0m\n",
      "\u001b[0;31mCalledProcessError\u001b[0m: Command '['/home/sorin/anaconda3/bin/vl2vg']' returned non-zero exit status 1."
     ]
    }
   ],
   "source": [
    "#save(volume_chart, \"test.png\")\n",
    "volume_chart.save(\"test.png\", format = \"png\")"
   ]
  },
  {
   "cell_type": "markdown",
   "id": "c433c9f1-154b-4cbd-9acb-1ac416dddd8f",
   "metadata": {},
   "source": [
    "![Total calls per day - chart](/projects/call_analyzer_estimator/line_chart_total_calls_per_day.png)"
   ]
  },
  {
   "cell_type": "markdown",
   "id": "9da14c74-0f64-4d0c-ab02-32d89cf119cd",
   "metadata": {},
   "source": [
    "We can see that there is a huge chunk of data missing in April and May. The missing data is due to the 2020 COVID confinement.\n",
    "\n",
    "Also, the chart is overcrowded, nothing is really visible here. Let's remake it into a boxplot chart, to have more details."
   ]
  },
  {
   "cell_type": "code",
   "execution_count": null,
   "id": "2c39ca2c-7423-482b-b34a-7352430898d5",
   "metadata": {},
   "outputs": [],
   "source": [
    "boxplot = df.groupby(\"Date\")[\"CommunicationType\"].count().reset_index().rename({\"CommunicationType\": \"Total\"}, axis = 1)\n",
    "boxplot[\"Date\"] = pd.to_datetime(boxplot[\"Date\"], format = \"%H:%M:%S\")\n",
    "boxplot[\"YearMonth\"] = boxplot['Date'].dt.to_period('M').dt.strftime('%Y-%m')\n",
    "boxplot.sample(5)"
   ]
  },
  {
   "cell_type": "code",
   "execution_count": null,
   "id": "33d3fe64-0695-471a-841c-ea236d2b9395",
   "metadata": {},
   "outputs": [],
   "source": [
    "alt.Chart(boxplot).mark_boxplot().encode(\n",
    "    x='YearMonth:O',\n",
    "    y='Total:Q'\n",
    ").properties(\n",
    "    width=600\n",
    ")"
   ]
  },
  {
   "cell_type": "markdown",
   "id": "bd067ab3-a8f8-4aa1-9c68-792f9d1d9814",
   "metadata": {},
   "source": [
    "![Total calls per month - boxplot](/projects/call_analyzer_estimator/bloxplot_chart_total_calls_per_day.png)"
   ]
  },
  {
   "cell_type": "markdown",
   "id": "71a0ba68-3433-4279-97a4-0a544403b91c",
   "metadata": {},
   "source": [
    "We can extract some info now:\n",
    "- the average held between 60 to 100 in 2019, however the average ammount of calls increased in 2020.\n",
    "- there is considerable variation in min / max calls from month to month (probably due to season variations) and this will require more precise estimates on manpower. \n",
    "- there are outliers for max values, most likely indicating general incidents in the infrastructure that generate peak calls to the service. This should be adressed by an emergency service redirection."
   ]
  },
  {
   "cell_type": "markdown",
   "id": "eccea827-307a-4f2b-8529-14d1d4b88709",
   "metadata": {},
   "source": [
    "## Total calls per month - volume"
   ]
  },
  {
   "cell_type": "code",
   "execution_count": null,
   "id": "f78051bf-acec-4074-ba5d-ccf73412df5c",
   "metadata": {},
   "outputs": [],
   "source": [
    "total_per_month = df.groupby(\"Date\")[\"CommunicationType\"].count().reset_index().rename({\"CommunicationType\": \"Total\"}, axis = 1)\n",
    "genprint(total_per_month.sample(5))"
   ]
  },
  {
   "cell_type": "code",
   "execution_count": null,
   "id": "58d89f42-c9fd-4177-83a4-bcfe2665982c",
   "metadata": {},
   "outputs": [],
   "source": [
    "alt.Chart(total_per_month).mark_bar().encode(\n",
    "    x = \"yearmonth(Date):O\",\n",
    "    y = 'Total',\n",
    "    size = 'Total:Q'\n",
    ").properties(\n",
    "    width = 600\n",
    ")"
   ]
  },
  {
   "cell_type": "markdown",
   "id": "ecf1204e-01a9-4c26-9828-44be80b63817",
   "metadata": {},
   "source": [
    "![Total calls per month - chart](/projects/call_analyzer_estimator/chart_total_calls_per_month.png)"
   ]
  },
  {
   "cell_type": "code",
   "execution_count": null,
   "id": "86e08770-d11e-4be7-b9f4-5083d53fdb6e",
   "metadata": {},
   "outputs": [],
   "source": [
    "total_heatmap = df.groupby(\"Date\")[\"CommunicationType\"].count().reset_index().rename({\"CommunicationType\": \"Total\"}, axis = 1)\n",
    "heatmap_per_day = alt.Chart(total_heatmap).mark_rect().encode(\n",
    "    x='date(Date):O',\n",
    "    y='yearmonth(Date):O',\n",
    "    color= alt.Color('Total:Q', scale=alt.Scale(scheme='goldred'))\n",
    ").properties(\n",
    "    width=600\n",
    "    )\n",
    "heatmap_per_day"
   ]
  },
  {
   "cell_type": "markdown",
   "id": "91ab1bd3-7bc8-4919-b487-494e9f422f14",
   "metadata": {},
   "source": [
    "![Total calls per month - heatmap chart](/projects/call_analyzer_estimator/chart_heatmap_calls_month_date.png)"
   ]
  },
  {
   "cell_type": "code",
   "execution_count": null,
   "id": "e33d17d5-2fdd-4397-8e64-037193045e5b",
   "metadata": {},
   "outputs": [],
   "source": [
    "heatmap_per_day_of_week = alt.Chart(total_heatmap.rename({\"CommunicationType\": \"Total\"}, axis = 1)).mark_rect().encode(\n",
    "    x='day(Date):O',\n",
    "    y='yearmonth(Date):O',\n",
    "    color= alt.Color('Total:Q', scale=alt.Scale(scheme='goldred'))\n",
    ").properties(\n",
    "    width=600\n",
    "    )\n",
    "heatmap_per_day_of_week"
   ]
  },
  {
   "cell_type": "markdown",
   "id": "13963340-78c5-48bc-a21c-22fb2d3f894e",
   "metadata": {},
   "source": [
    "![Total calls per month and day of week - heatmap chart](/projects/call_analyzer_estimator/chart_heatmap_calls_month_day_week.png)"
   ]
  },
  {
   "attachments": {
    "885e3574-a056-4fab-b0aa-ff056d09dbbc.png": {
     "image/png": "[encoded data removed]"
    }
   },
   "cell_type": "markdown",
   "id": "f0640fa0-c956-42e6-b285-d09ed804ff64",
   "metadata": {},
   "source": [
    "# Estimator\n",
    "\n",
    "Given a level of service, what is the minimum required ammount of agents to fulfill the service in question?\n",
    "\n",
    "We'll check this by constructing time intervals from calls start and end time and we'll check at a certain frequency how many time intervals overlap. Since only one person can respond to a call, the total number of overlaps is the number of required agents.\n",
    "\n",
    "Let's look at a simple example:\n",
    "\n",
    "![call_diagram.png](attachment:885e3574-a056-4fab-b0aa-ff056d09dbbc.png)\n",
    "\n",
    "![Call diagram](/projects/call_analyzer_estimator/call_analyzer_estimator_call_diagram.png)\n",
    "\n",
    "In the interval 8h00 - 8h30, we received 2 calls that were answered and we missed one call. In order to properly estimate the time occupation, we'll add 5min (the average conversation time) to missed calls. So, for this interval, we needed 3 agents to answer. In the next interval, 8h30 - 9h00, we still have 2 agents on call (Call1 and Call2), we assume that there is another fictive agent on missed Call3 and we receive another call that we missed. In total, for this interval, we would need 4 agents. In total, we can see that we need:\n",
    "\n",
    "| Interval    | Agents needed |\n",
    "| ----------- | ------------- |\n",
    "| 8h00 - 8h30 | 3             |\n",
    "| 8h30 - 9h00 | 4             |\n",
    "| 9h00 - 9h30 | 2             |\n",
    "\n",
    "The time interval to check for call status will be smaller (5 min) in order to be more precise in our results."
   ]
  },
  {
   "cell_type": "code",
   "execution_count": null,
   "id": "26471b12-d724-400e-b334-3115e7aa2ba1",
   "metadata": {},
   "outputs": [],
   "source": [
    "df[\"call_start_dt\"] = df[\"DateTime\"]\n",
    "\n",
    "df[\"call_end_dt\"] = np.nan\n",
    "df.loc[df[\"Answered\"] == 1, \"call_end_dt\"] = df[\"DateTime\"] + df[\"CallDuration\"]\n",
    "\n",
    "average_call_time = df.loc[df[\"Answered\"] == 1,\"CallDuration\"].mean()\n",
    "average_call_time = average_call_time.floor(\"s\")\n",
    "average_call_time"
   ]
  },
  {
   "cell_type": "code",
   "execution_count": null,
   "id": "569e88df-a796-43d1-96d1-b1498054cd70",
   "metadata": {},
   "outputs": [],
   "source": [
    "df.loc[df[\"Answered\"] == 0, \"call_end_dt\"] = df[\"DateTime\"] + pd.to_timedelta(average_call_time, unit = \"S\")\n",
    "df.loc[:,(\"DateTime\", \"CallDuration\", \"call_start_dt\", \"call_end_dt\")].sample(5)"
   ]
  },
  {
   "cell_type": "code",
   "execution_count": null,
   "id": "e780e818-e2ee-4c00-9f20-92c673e3ebc0",
   "metadata": {},
   "outputs": [],
   "source": [
    "def create_interval(df):\n",
    "    df[\"Time_interval\"] = pd.Interval(df[\"call_start_dt\"], df[\"call_end_dt\"])\n",
    "    return df\n",
    "\n",
    "df[\"Time_interval\"] = np.nan\n",
    "df = df.apply(create_interval, axis = 1)\n",
    "genprint(df.loc[:,(\"call_start_dt\", \"call_end_dt\", \"Time_interval\")].head())"
   ]
  },
  {
   "cell_type": "markdown",
   "id": "fe5d3b36-08b3-46b4-a08e-120f31d16a02",
   "metadata": {},
   "source": [
    "Constructing time intervals between date A and date B, each day with opening hour X and closing hour Y is ... tricky :("
   ]
  },
  {
   "cell_type": "code",
   "execution_count": null,
   "id": "bfa0ccf5-ed72-4749-b396-7cf83a21ea45",
   "metadata": {},
   "outputs": [],
   "source": [
    "unique_date_list = df[\"Date\"].unique()\n",
    "date_range_start = []\n",
    "date_range_end = []\n",
    "frequency = pd.Timedelta(\"5 minutes\")\n",
    "\n",
    "for unique_date in unique_date_list:   \n",
    "    day_range_start = pd.date_range(start = unique_date + pd.Timedelta(\"7 hours 30 minutes\"),\n",
    "                             end = unique_date + pd.Timedelta(\"18 hours 30 minutes\") - frequency,\n",
    "                             freq = frequency\n",
    "                           )\n",
    "    day_range_end = pd.date_range(start = unique_date + pd.Timedelta(\"7 hours 30 minutes\") + frequency,\n",
    "                             end = unique_date + pd.Timedelta(\"18 hours 30 minutes\"),\n",
    "                             freq = frequency\n",
    "                           )\n",
    "    \n",
    "    date_range_start += day_range_start\n",
    "    date_range_end += day_range_end\n",
    "    \n",
    "verification_range = pd.IntervalIndex.from_arrays(date_range_start, date_range_end)\n",
    "verification_range"
   ]
  },
  {
   "cell_type": "code",
   "execution_count": null,
   "id": "f72f1de8-050a-4e6f-a08b-02005f2428fc",
   "metadata": {},
   "outputs": [],
   "source": [
    "result = []\n",
    "for verification_interval in verification_range:\n",
    "    counter = 0\n",
    "    \n",
    "    # we're filtering the main dataframe as there is no point in searching for overlaps in the next day\n",
    "    mask_filter_left = (df[\"call_start_dt\"] > verification_interval.left - pd.Timedelta(\"24h\"))\n",
    "    mask_filter_right = (df[\"call_end_dt\"] < verification_interval.right + pd.Timedelta(\"24h\"))\n",
    "    \n",
    "    call_intervals = df.loc[(mask_filter_left & mask_filter_right), \"Time_interval\"]\n",
    "    \n",
    "    for call_interval in call_intervals:\n",
    "        if verification_interval.overlaps(call_interval):\n",
    "            counter += 1      \n",
    "    result.append({\"time_interval\": verification_interval,\n",
    "                  \"total_overlaps\": counter})"
   ]
  },
  {
   "cell_type": "code",
   "execution_count": null,
   "id": "8c4bc73e-8078-4894-a600-593f3e7e5b0d",
   "metadata": {},
   "outputs": [],
   "source": [
    "estimator = pd.DataFrame(result)\n",
    "genprint(estimator.sample(5))"
   ]
  },
  {
   "cell_type": "markdown",
   "id": "deeec20f-4637-4e34-8adb-ffe39a0de2f4",
   "metadata": {},
   "source": [
    "We got our results, but we'll only keep the starting date of the interval, it's much easier to construct graphs with simple dates than time intervals."
   ]
  },
  {
   "cell_type": "code",
   "execution_count": null,
   "id": "16ff9640-bfa0-4135-9632-7e25792e4998",
   "metadata": {},
   "outputs": [],
   "source": [
    "estimator[\"DateTime\"] = estimator[\"time_interval\"].apply(lambda x: x.left)\n",
    "estimator = estimator.loc[:,(\"total_overlaps\",\"DateTime\")].rename({\"total_overlaps\": \"Total\"}, axis = 1)"
   ]
  },
  {
   "cell_type": "code",
   "execution_count": null,
   "id": "6b944f39-afcb-455a-8fbe-5033a89b38e6",
   "metadata": {},
   "outputs": [],
   "source": [
    "genprint(estimator.sample(5))"
   ]
  },
  {
   "cell_type": "markdown",
   "id": "38557551-324f-4cbe-972c-12148b04616b",
   "metadata": {},
   "source": [
    "# Average / Min / Max nb of agents required per hour per day"
   ]
  },
  {
   "cell_type": "code",
   "execution_count": null,
   "id": "a331e0fe-4380-45f3-b7c8-ff79824e2dcd",
   "metadata": {},
   "outputs": [],
   "source": [
    "estimator[\"Hour\"] = estimator[\"DateTime\"].dt.hour\n",
    "estimator[\"Day_nb\"] = estimator[\"DateTime\"].dt.day\n",
    "genprint(estimator.sample(5))"
   ]
  },
  {
   "cell_type": "code",
   "execution_count": null,
   "id": "d70042e7-4e68-459d-858f-8fdf3a7df3cb",
   "metadata": {},
   "outputs": [],
   "source": [
    "def calc_agg(df):\n",
    "    df[\"Total_mean\"] = df[\"Total\"].mean()\n",
    "    df[\"Total_mean\"] = np.ceil(df[\"Total_mean\"])\n",
    "    df[\"Total_min\"] = df[\"Total\"].min()\n",
    "    df[\"Total_max\"] = df[\"Total\"].max()\n",
    "    \n",
    "    return df\n",
    "\n",
    "heatmap_table = estimator.groupby([\"Day_nb\", \"Hour\"]).apply(calc_agg).reset_index(drop = True)\n",
    "genprint(heatmap_table.sample(5))"
   ]
  },
  {
   "cell_type": "code",
   "execution_count": null,
   "id": "c98b35be-1ecb-401f-ab19-1b82b016699e",
   "metadata": {},
   "outputs": [],
   "source": [
    "alt.data_transformers.disable_max_rows()\n",
    "\n",
    "base = alt.Chart(heatmap_table.rename({\"Day_nb\": \"Date\", \"Total_mean\": \"Mean\", \"Total_max\": \"Max\"})).encode(\n",
    "    x='Hour:O',\n",
    "    y='Day_nb:O'\n",
    "    )\n",
    "\n",
    "color_avg = base.mark_rect().encode(\n",
    "    color= alt.Color('Total_mean:Q', scale=alt.Scale(scheme='goldred'))\n",
    "    )\n",
    "\n",
    "text_avg = base.mark_text(baseline='middle').encode(\n",
    "    text = 'max(Total_mean):Q'\n",
    "    )\n",
    "\n",
    "heatmap = color_avg + text_avg\n",
    "heatmap"
   ]
  },
  {
   "cell_type": "markdown",
   "id": "6bd7b689-9d13-4967-ac93-070261e52074",
   "metadata": {},
   "source": [
    "![Agents need](/projects/call_analyzer_estimator/avg_agents_per_day_heatmap.png)"
   ]
  }
 ],
 "metadata": {
  "kernelspec": {
   "display_name": "Python 3",
   "language": "python",
   "name": "python3"
  },
  "language_info": {
   "codemirror_mode": {
    "name": "ipython",
    "version": 3
   },
   "file_extension": ".py",
   "mimetype": "text/x-python",
   "name": "python",
   "nbconvert_exporter": "python",
   "pygments_lexer": "ipython3",
   "version": "3.8.8"
  }
 },
 "nbformat": 4,
 "nbformat_minor": 5
}
